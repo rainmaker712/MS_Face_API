{
 "cells": [
  {
   "cell_type": "markdown",
   "metadata": {},
   "source": [
    "# Project Oxford: Face API example"
   ]
  },
  {
   "cell_type": "markdown",
   "metadata": {},
   "source": [
    "### This Jupyter notebook shows you how to get started with the Project Oxford <b>Face API</b> in Python, and how to visualize your results."
   ]
  },
  {
   "cell_type": "markdown",
   "metadata": {},
   "source": [
    "To use this notebook, you will need to get keys to <b>Face API</b>. Visit <a href=\"http://www.projectoxford.ai/face\">www.projectoxford.ai/face</a>, and then the “Try for free” button. On the “Sign in” page, use your Microsoft account to sign in and you will be able to subscribe to Face API and get free keys (Code of Conduct and TOS). After completing the sign-up process, paste your key into the variables section below. (Either the primary or the secondary key works.)\n",
    "\n",
    "https://github.com/Microsoft/CognitiveServices-Documentation/blob/master/Content/en-us/Face/Face-API-How-to-Topics/HowtoIdentifyFacesinImage.md"
   ]
  },
  {
   "cell_type": "code",
   "execution_count": 8,
   "metadata": {
    "collapsed": false
   },
   "outputs": [],
   "source": [
    "import time \n",
    "import requests\n",
    "import cv2\n",
    "import operator\n",
    "import numpy as np\n",
    "from __future__ import print_function\n",
    "\n",
    "import matplotlib.pyplot as plt # Import library to display results\n",
    "%matplotlib inline \n",
    "\n",
    "import httplib, urllib, base64 #General API Usage"
   ]
  },
  {
   "cell_type": "markdown",
   "metadata": {},
   "source": [
    "# Face API Auth. Key"
   ]
  },
  {
   "cell_type": "code",
   "execution_count": 29,
   "metadata": {
    "collapsed": true
   },
   "outputs": [],
   "source": [
    "#FACE KEY group create Variables\n",
    "\n",
    "_url = 'https://api.projectoxford.ai/face/v1.0/detect'\n",
    "_key = '0b8afa8909154432bafeed6a3217fcde' #Here you have to paste your primary key\n",
    "_maxNumRetries = 10\n",
    "\n",
    "headers = {\n",
    "    # Request header\n",
    "    'Content-Type': 'application/json',\n",
    "    'Ocp-Apim-Subscription-Key': _key\n",
    "}"
   ]
  },
  {
   "cell_type": "markdown",
   "metadata": {},
   "source": [
    "## 2"
   ]
  },
  {
   "cell_type": "code",
   "execution_count": 28,
   "metadata": {
    "collapsed": false
   },
   "outputs": [
    {
     "name": "stdout",
     "output_type": "stream",
     "text": [
      "{\"error\":{\"code\":\"PersonGroupExists\",\"message\":\"Person group 'myfriends' already exists.\"}}\n"
     ]
    }
   ],
   "source": [
    "#Person Group - Create a Person Group API\n",
    "\n",
    "group_id = 'myfriends'\n",
    "\n",
    "body = '{\"name\": \"Anna\",\"userData\": \"user_profivde_data\"}'\n",
    "\n",
    "params = urllib.urlencode({ 'personGroupId': group_id})\n",
    "\n",
    "try:\n",
    "    conn = httplib.HTTPSConnection('api.projectoxford.ai')\n",
    "    conn.request(\"PUT\", \"/face/v1.0/persongroups/{personGroupId}?%s\" % params, body, headers)\n",
    "    response = conn.getresponse()\n",
    "    data = response.read()\n",
    "    print(data)\n",
    "    conn.close()\n",
    "except Exception as e:\n",
    "    print(\"[Errno {0}] {1}\".format(e.errno, e.strerror))"
   ]
  },
  {
   "cell_type": "code",
   "execution_count": null,
   "metadata": {
    "collapsed": true
   },
   "outputs": [],
   "source": [
    "#Person - Create Person API\n",
    "\n",
    "params = urllib.urlencode({ 'personGroupId' : group_id\n",
    "})\n",
    "\n",
    "try:\n",
    "    conn = httplib.HTTPSConnection('api.projectoxford.ai')\n",
    "    conn.request(\"POST\", \"/face/v1.0/persongroups/{personGroupId}/persons?%s\" % params, \"{body}\", headers)\n",
    "    response = conn.getresponse()\n",
    "    data = response.read()\n",
    "    print(data)\n",
    "    conn.close()\n",
    "except Exception as e:\n",
    "    print(\"[Errno {0}] {1}\".format(e.errno, e.strerror))"
   ]
  },
  {
   "cell_type": "code",
   "execution_count": null,
   "metadata": {
    "collapsed": true
   },
   "outputs": [],
   "source": [
    "# Face - Detect API\n",
    "\n",
    "params = urllib.urlencode({\n",
    "    # Request parameters\n",
    "    'returnFaceId': 'true',\n",
    "    'returnFaceLandmarks': 'false',\n",
    "    'returnFaceAttributes': '{string}',\n",
    "})\n",
    "\n",
    "try:\n",
    "    conn = httplib.HTTPSConnection('api.projectoxford.ai')\n",
    "    conn.request(\"POST\", \"/face/v1.0/detect?%s\" % params, \"{body}\", headers)\n",
    "    response = conn.getresponse()\n",
    "    data = response.read()\n",
    "    print(data)\n",
    "    conn.close()\n",
    "except Exception as e:\n",
    "    print(\"[Errno {0}] {1}\".format(e.errno, e.strerror))"
   ]
  },
  {
   "cell_type": "code",
   "execution_count": null,
   "metadata": {
    "collapsed": true
   },
   "outputs": [],
   "source": [
    "# Person - Add a Person Face\n",
    "\n",
    "headers = {\n",
    "    # Request headers\n",
    "    'Content-Type': 'application/json',\n",
    "    'Ocp-Apim-Subscription-Key': _key,\n",
    "}\n",
    "\n",
    "params = urllib.urlencode({\n",
    "    # Request parameters\n",
    "    'personGroupId': 'ryan5',\n",
    "    'personId': \"69851660-dbbc-48d7-9b68-6a2830bf0256\"\n",
    "    #'userData': '{string}',\n",
    "    #'targetFace': '{string}',\n",
    "})\n",
    "\n",
    "body = '{ \"url\": \"http://www.stylishandtrendy.com/wp-content/uploads/2012/10/square-shape-facial-hair-styles-for-men.jpg\" }'\n",
    "\n",
    "try:\n",
    "    conn = httplib.HTTPSConnection('api.projectoxford.ai')\n",
    "    conn.request(\"POST\", \"/face/v1.0/persongroups/{personGroupId}/persons/{personId}/persistedFaces?%s\" % params, body, headers)\n",
    "    response = conn.getresponse()\n",
    "    data = response.read()\n",
    "    print(data)\n",
    "    conn.close()\n",
    "except Exception as e:\n",
    "    print(\"[Errno {0}] {1}\".format(e.errno, e.strerror))"
   ]
  },
  {
   "cell_type": "code",
   "execution_count": null,
   "metadata": {
    "collapsed": true
   },
   "outputs": [],
   "source": [
    "# Person - Delete a Person Face\n",
    "\n",
    "headers = {\n",
    "    # Request headers\n",
    "    'Ocp-Apim-Subscription-Key': '{subscription key}',\n",
    "}\n",
    "\n",
    "params = urllib.urlencode({\n",
    "})\n",
    "\n",
    "try:\n",
    "    conn = httplib.HTTPSConnection('api.projectoxford.ai')\n",
    "    conn.request(\"DELETE\", \"/face/v1.0/persongroups/{personGroupId}/persons/{personId}/persistedFaces/{persistedFaceId}?%s\" % params, \"{body}\", headers)\n",
    "    response = conn.getresponse()\n",
    "    data = response.read()\n",
    "    print(data)\n",
    "    conn.close()\n",
    "except Exception as e:\n",
    "    print(\"[Errno {0}] {1}\".format(e.errno, e.strerror))\n"
   ]
  },
  {
   "cell_type": "markdown",
   "metadata": {},
   "source": [
    "### 3"
   ]
  },
  {
   "cell_type": "code",
   "execution_count": null,
   "metadata": {
    "collapsed": true
   },
   "outputs": [],
   "source": [
    "#Person Group – Train Person Group API.\n",
    "\n",
    "headers = {\n",
    "    # Request headers\n",
    "    'Ocp-Apim-Subscription-Key': '{subscription key}',\n",
    "}\n",
    "\n",
    "params = urllib.urlencode({\n",
    "})\n",
    "\n",
    "try:\n",
    "    conn = httplib.HTTPSConnection('api.projectoxford.ai')\n",
    "    conn.request(\"POST\", \"/face/v1.0/persongroups/{personGroupId}/train?%s\" % params, \"{body}\", headers)\n",
    "    response = conn.getresponse()\n",
    "    data = response.read()\n",
    "    print(data)\n",
    "    conn.close()\n",
    "except Exception as e:\n",
    "    print(\"[Errno {0}] {1}\".format(e.errno, e.strerror))"
   ]
  },
  {
   "cell_type": "code",
   "execution_count": null,
   "metadata": {
    "collapsed": true
   },
   "outputs": [],
   "source": [
    "#Person Group - Get Person Group Training Status\n",
    "\n",
    "headers = {\n",
    "    # Request headers\n",
    "    'Ocp-Apim-Subscription-Key': '{subscription key}',\n",
    "}\n",
    "\n",
    "params = urllib.urlencode({\n",
    "})\n",
    "\n",
    "try:\n",
    "    conn = httplib.HTTPSConnection('api.projectoxford.ai')\n",
    "    conn.request(\"GET\", \"/face/v1.0/persongroups/{personGroupId}/training?%s\" % params, \"{body}\", headers)\n",
    "    response = conn.getresponse()\n",
    "    data = response.read()\n",
    "    print(data)\n",
    "    conn.close()\n",
    "except Exception as e:\n",
    "    print(\"[Errno {0}] {1}\".format(e.errno, e.strerror))"
   ]
  },
  {
   "cell_type": "markdown",
   "metadata": {},
   "source": [
    "####  4"
   ]
  },
  {
   "cell_type": "code",
   "execution_count": null,
   "metadata": {
    "collapsed": true
   },
   "outputs": [],
   "source": [
    "# Face Identity\n",
    "\n",
    "params = urllib.urlencode({\n",
    "})\n",
    "\n",
    "try:\n",
    "    conn = httplib.HTTPSConnection('api.projectoxford.ai')\n",
    "    conn.request(\"POST\", \"/face/v1.0/identify?%s\" % params, \"{body}\", headers)\n",
    "    response = conn.getresponse()\n",
    "    data = response.read()\n",
    "    print(data)\n",
    "    conn.close()\n",
    "except Exception as e:\n",
    "    print(\"[Errno {0}] {1}\".format(e.errno, e.strerror))"
   ]
  },
  {
   "cell_type": "code",
   "execution_count": null,
   "metadata": {
    "collapsed": true
   },
   "outputs": [],
   "source": []
  },
  {
   "cell_type": "code",
   "execution_count": null,
   "metadata": {
    "collapsed": true
   },
   "outputs": [],
   "source": []
  },
  {
   "cell_type": "code",
   "execution_count": null,
   "metadata": {
    "collapsed": true
   },
   "outputs": [],
   "source": []
  },
  {
   "cell_type": "code",
   "execution_count": null,
   "metadata": {
    "collapsed": true
   },
   "outputs": [],
   "source": []
  },
  {
   "cell_type": "markdown",
   "metadata": {},
   "source": [
    "Face Detection"
   ]
  },
  {
   "cell_type": "code",
   "execution_count": null,
   "metadata": {
    "collapsed": true
   },
   "outputs": [],
   "source": []
  },
  {
   "cell_type": "code",
   "execution_count": null,
   "metadata": {
    "collapsed": true
   },
   "outputs": [],
   "source": []
  },
  {
   "cell_type": "code",
   "execution_count": null,
   "metadata": {
    "collapsed": true
   },
   "outputs": [],
   "source": []
  },
  {
   "cell_type": "code",
   "execution_count": null,
   "metadata": {
    "collapsed": true
   },
   "outputs": [],
   "source": []
  },
  {
   "cell_type": "markdown",
   "metadata": {},
   "source": [
    "1. Person Group - Create a Person Group "
   ]
  },
  {
   "cell_type": "code",
   "execution_count": 17,
   "metadata": {
    "collapsed": false
   },
   "outputs": [
    {
     "name": "stdout",
     "output_type": "stream",
     "text": [
      "{\"error\":{\"code\":\"PersonGroupExists\",\"message\":\"Person group 'myfriends' already exists.\"}}\n"
     ]
    }
   ],
   "source": [
    "headers = {\n",
    "    # Request headers\n",
    "    'Content-Type': 'application/json',\n",
    "    'Ocp-Apim-Subscription-Key': _key,\n",
    "}\n",
    "\n",
    "params = urllib.urlencode({ 'personGroupId': 'myfriends' })\n",
    "\n",
    "body = '{\"name\": \"Anna\",\"userData\": \"user_profivde_data\"}'\n",
    "#body = '{\"name\": \"Bill\",\"userData\": \"user_profivde_data\"}'\n",
    "#body = '{\"name\": \"Clare\",\"userData\": \"user_profivde_data\"}'\n",
    "\n",
    "try:\n",
    "    conn = httplib.HTTPSConnection('api.projectoxford.ai')\n",
    "    conn.request(\"PUT\", \"/face/v1.0/persongroups/{personGroupId}?%s\" % params, body, headers)\n",
    "    response = conn.getresponse()\n",
    "    data = response.read()\n",
    "    print(data)\n",
    "    conn.close()\n",
    "except Exception as e:\n",
    "    print(\"[Errno {0}] {1}\".format(e.errno, e.strerror))"
   ]
  },
  {
   "cell_type": "code",
   "execution_count": 18,
   "metadata": {
    "collapsed": false
   },
   "outputs": [
    {
     "name": "stdout",
     "output_type": "stream",
     "text": [
      "\n"
     ]
    }
   ],
   "source": [
    "body = '{\"name\": \"Bill\",\"userData\": \"user_profivde_data\"}'\n",
    "\n",
    "try:\n",
    "    conn = httplib.HTTPSConnection('api.projectoxford.ai')\n",
    "    conn.request(\"PATCH\", \"/face/v1.0/persongroups/{personGroupId}?%s\" % params, body, headers)\n",
    "    response = conn.getresponse()\n",
    "    data = response.read()\n",
    "    print(data)\n",
    "    conn.close()\n",
    "except Exception as e:\n",
    "    print(\"[Errno {0}] {1}\".format(e.errno, e.strerror))"
   ]
  },
  {
   "cell_type": "code",
   "execution_count": 20,
   "metadata": {
    "collapsed": false
   },
   "outputs": [
    {
     "name": "stdout",
     "output_type": "stream",
     "text": [
      "{\"personGroupId\":\"test1\",\"name\":\"group1\",\"userData\":\"user-provided data attached to the person group\"}\n"
     ]
    }
   ],
   "source": [
    "headers = {\n",
    "    # Request headers\n",
    "    'Ocp-Apim-Subscription-Key': _key,\n",
    "}\n",
    "\n",
    "params = urllib.urlencode({ 'personGroupId': 'test1'\n",
    "})\n",
    "\n",
    "try:\n",
    "    conn = httplib.HTTPSConnection('api.projectoxford.ai')\n",
    "    conn.request(\"GET\", \"/face/v1.0/persongroups/{personGroupId}?%s\" % params, \"{body}\", headers)\n",
    "    response = conn.getresponse()\n",
    "    data = response.read()\n",
    "    print(data)\n",
    "    conn.close()\n",
    "except Exception as e:\n",
    "    print(\"[Errno {0}] {1}\".format(e.errno, e.strerror))"
   ]
  },
  {
   "cell_type": "markdown",
   "metadata": {},
   "source": [
    "## Create face group and get face group list"
   ]
  },
  {
   "cell_type": "code",
   "execution_count": 6,
   "metadata": {
    "collapsed": false
   },
   "outputs": [
    {
     "name": "stdout",
     "output_type": "stream",
     "text": [
      "\n"
     ]
    }
   ],
   "source": [
    "group_id = 'myfriends'\n",
    "\n",
    "body = '{\"name\": \"Anna\",\"userData\": \"user_profivde_data\"}'\n",
    "\n",
    "headers = {\n",
    "    # Request header\n",
    "    'Content-Type': 'application/json',\n",
    "    'Ocp-Apim-Subscription-Key': _key\n",
    "}\n",
    "\n",
    "params = urllib.urlencode({ 'personGroupId': group_id})\n",
    "\n",
    "try:\n",
    "    conn = httplib.HTTPSConnection('api.projectoxford.ai')\n",
    "    conn.request(\"PUT\", \"/face/v1.0/persongroups/{personGroupId}?%s\" % params, body, headers)\n",
    "    response = conn.getresponse()\n",
    "    data = response.read()\n",
    "    print(data)\n",
    "    conn.close()\n",
    "except Exception as e:\n",
    "    print(\"[Errno {0}] {1}\".format(e.errno, e.strerror))"
   ]
  },
  {
   "cell_type": "code",
   "execution_count": null,
   "metadata": {
    "collapsed": true
   },
   "outputs": [],
   "source": [
    "params = urllib.urlencode({\n",
    "})\n",
    "\n",
    "try:\n",
    "    conn = httplib.HTTPSConnection('api.projectoxford.ai')\n",
    "    conn.request(\"POST\", \"/face/v1.0/persongroups/{personGroupId}/persons?%s\" % params, \"{body}\", headers)\n",
    "    response = conn.getresponse()\n",
    "    data = response.read()\n",
    "    print(data)\n",
    "    conn.close()\n",
    "except Exception as e:\n",
    "    print(\"[Errno {0}] {1}\".format(e.errno, e.strerror))"
   ]
  },
  {
   "cell_type": "markdown",
   "metadata": {},
   "source": [
    "Get Person group"
   ]
  },
  {
   "cell_type": "code",
   "execution_count": 8,
   "metadata": {
    "collapsed": false
   },
   "outputs": [
    {
     "name": "stdout",
     "output_type": "stream",
     "text": [
      "{\"personGroupId\":\"taehee\",\"name\":\"Taehee\",\"userData\":\"user_profivde_data\"}\n"
     ]
    }
   ],
   "source": [
    "headers = {\n",
    "    # Request headers\n",
    "    'Ocp-Apim-Subscription-Key': _key,\n",
    "}\n",
    "\n",
    "params = urllib.urlencode({ 'personGroupId': 'taehee'\n",
    "})\n",
    "\n",
    "try:\n",
    "    conn = httplib.HTTPSConnection('api.projectoxford.ai')\n",
    "    conn.request(\"GET\", \"/face/v1.0/persongroups/{personGroupId}?%s\" % params, \"{body}\", headers)\n",
    "    response = conn.getresponse()\n",
    "    data = response.read()\n",
    "    print(data)\n",
    "    conn.close()\n",
    "except Exception as e:\n",
    "    print(\"[Errno {0}] {1}\".format(e.errno, e.strerror))"
   ]
  },
  {
   "cell_type": "code",
   "execution_count": null,
   "metadata": {
    "collapsed": true
   },
   "outputs": [],
   "source": []
  },
  {
   "cell_type": "markdown",
   "metadata": {},
   "source": [
    "List Person group"
   ]
  },
  {
   "cell_type": "code",
   "execution_count": 49,
   "metadata": {
    "collapsed": false
   },
   "outputs": [
    {
     "name": "stdout",
     "output_type": "stream",
     "text": [
      "[{\"personGroupId\":\"ryan2\",\"name\":\"group1\",\"userData\":\"https://raw.githubusercontent.com/Microsoft/ProjectOxford-ClientSDK/master/Face/Windows/Data/identification1.jpg\"},{\"personGroupId\":\"ryan5\",\"name\":\"group5\",\"userData\":\"https://raw.githubusercontent.com/Microsoft/ProjectOxford-ClientSDK/master/Face/Windows/Data/identification1.jpg\"},{\"personGroupId\":\"ryanface\",\"name\":\"group1\",\"userData\":\"user_profivde_data\"}]\n"
     ]
    }
   ],
   "source": [
    "headers = {\n",
    "    # Request headers\n",
    "    'Ocp-Apim-Subscription-Key': _key,\n",
    "}\n",
    "\n",
    "params = urllib.urlencode({ \n",
    "})\n",
    "\n",
    "try:\n",
    "    conn = httplib.HTTPSConnection('api.projectoxford.ai')\n",
    "    conn.request(\"GET\", \"/face/v1.0/persongroups?%s\" % params, \"{body}\", headers)\n",
    "    response = conn.getresponse()\n",
    "    data = response.read()\n",
    "    print(data)\n",
    "    conn.close()\n",
    "except Exception as e:\n",
    "    print(\"[Errno {0}] {1}\".format(e.errno, e.strerror))\n"
   ]
  },
  {
   "cell_type": "markdown",
   "metadata": {},
   "source": [
    "Delete Person group"
   ]
  },
  {
   "cell_type": "code",
   "execution_count": 13,
   "metadata": {
    "collapsed": false
   },
   "outputs": [
    {
     "name": "stdout",
     "output_type": "stream",
     "text": [
      "\n"
     ]
    }
   ],
   "source": [
    "headers = {\n",
    "    # Request headers\n",
    "    'Ocp-Apim-Subscription-Key': _key,\n",
    "}\n",
    "\n",
    "params = urllib.urlencode({ 'personGroupId': 'ryan'\n",
    "})\n",
    "\n",
    "try:\n",
    "    conn = httplib.HTTPSConnection('api.projectoxford.ai')\n",
    "    conn.request(\"DELETE\", \"/face/v1.0/persongroups/{personGroupId}?%s\" % params, \"{body}\", headers)\n",
    "    response = conn.getresponse()\n",
    "    data = response.read()\n",
    "    print(data)\n",
    "    conn.close()\n",
    "except Exception as e:\n",
    "    print(\"[Errno {0}] {1}\".format(e.errno, e.strerror))"
   ]
  },
  {
   "cell_type": "markdown",
   "metadata": {},
   "source": [
    "Training a person"
   ]
  },
  {
   "cell_type": "code",
   "execution_count": 45,
   "metadata": {
    "collapsed": false
   },
   "outputs": [
    {
     "name": "stdout",
     "output_type": "stream",
     "text": [
      "\n"
     ]
    }
   ],
   "source": [
    "headers = {\n",
    "    # Request headers\n",
    "    'Ocp-Apim-Subscription-Key': _key,\n",
    "}\n",
    "\n",
    "params = urllib.urlencode({ 'personGroupId': 'ryanface' })\n",
    "\n",
    "try:\n",
    "    conn = httplib.HTTPSConnection('api.projectoxford.ai')\n",
    "    conn.request(\"POST\", \"/face/v1.0/persongroups/{personGroupId}/train?%s\" % params, \"{body}\", headers)\n",
    "    response = conn.getresponse()\n",
    "    data = response.read()\n",
    "    print(data)\n",
    "    conn.close()\n",
    "except Exception as e:\n",
    "    print(\"[Errno {0}] {1}\".format(e.errno, e.strerror))"
   ]
  },
  {
   "cell_type": "markdown",
   "metadata": {},
   "source": [
    "Training Status"
   ]
  },
  {
   "cell_type": "code",
   "execution_count": 47,
   "metadata": {
    "collapsed": false,
    "scrolled": true
   },
   "outputs": [
    {
     "name": "stdout",
     "output_type": "stream",
     "text": [
      "{\"status\":\"failed\",\"createdDateTime\":\"6/22/2016 2:22:13 AM\",\"lastActionDateTime\":\"6/22/2016 2:22:13 AM\",\"message\":\"The operation was failed.\"}\n"
     ]
    }
   ],
   "source": [
    "headers = {\n",
    "    # Request headers\n",
    "    'Ocp-Apim-Subscription-Key': _key,\n",
    "}\n",
    "\n",
    "params = urllib.urlencode({ 'personGroupId': 'ryanface'\n",
    "})\n",
    "\n",
    "try:\n",
    "    conn = httplib.HTTPSConnection('api.projectoxford.ai')\n",
    "    conn.request(\"GET\", \"/face/v1.0/persongroups/{personGroupId}/training?%s\" % params, \"{body}\", headers)\n",
    "    response = conn.getresponse()\n",
    "    data = response.read()\n",
    "    print(data)\n",
    "    conn.close()\n",
    "except Exception as e:\n",
    "    print(\"[Errno {0}] {1}\".format(e.errno, e.strerror))"
   ]
  },
  {
   "cell_type": "markdown",
   "metadata": {},
   "source": [
    "Face Grouping"
   ]
  },
  {
   "cell_type": "code",
   "execution_count": 26,
   "metadata": {
    "collapsed": false
   },
   "outputs": [
    {
     "name": "stdout",
     "output_type": "stream",
     "text": [
      "{\"error\":{\"code\":\"BadArgument\",\"message\":\"Request body is invalid.\"}}\n"
     ]
    }
   ],
   "source": [
    "headers = {\n",
    "    # Request headers\n",
    "    'Content-Type': 'application/json',\n",
    "    'Ocp-Apim-Subscription-Key': _key,\n",
    "}\n",
    "\n",
    "params = urllib.urlencode({\n",
    "})\n",
    "\n",
    "body = { \"faceIds\":\n",
    "       [\n",
    "        \"124fs\",\n",
    "       \"124erfd\",\n",
    "       \"sdfadsf\"\n",
    "        ]\n",
    "        }\n",
    "\n",
    "try:\n",
    "    conn = httplib.HTTPSConnection('api.projectoxford.ai')\n",
    "    conn.request(\"POST\", \"/face/v1.0/group?%s\" % params, body, headers)\n",
    "    response = conn.getresponse()\n",
    "    data = response.read()\n",
    "    print(data)\n",
    "    conn.close()\n",
    "except Exception as e:\n",
    "    print(\"[Errno {0}] {1}\".format(e.errno, e.strerror))"
   ]
  },
  {
   "cell_type": "markdown",
   "metadata": {},
   "source": [
    "Create Person"
   ]
  },
  {
   "cell_type": "code",
   "execution_count": 14,
   "metadata": {
    "collapsed": false
   },
   "outputs": [
    {
     "name": "stdout",
     "output_type": "stream",
     "text": [
      "{\"personId\":\"d44d2e3f-e47c-4600-85da-0a59b8e0538f\"}\n"
     ]
    }
   ],
   "source": [
    "headers = {\n",
    "    # Request headers\n",
    "    'Content-Type': 'application/json',\n",
    "    'Ocp-Apim-Subscription-Key': _key,\n",
    "}\n",
    "\n",
    "params = urllib.urlencode({ 'personGroupId': 'taehee'\n",
    "})\n",
    "\n",
    "\n",
    "body = '{\"name\":\"taehee_1\",\\\n",
    "        \"userData\":\"/home/ryan/Pictures/kim/김태희_225.jpg\"\\\n",
    "        }'\n",
    "\n",
    "try:\n",
    "    conn = httplib.HTTPSConnection('api.projectoxford.ai')\n",
    "    conn.request(\"POST\", \"/face/v1.0/persongroups/{personGroupId}/persons?%s\" % params, body, headers)\n",
    "    response = conn.getresponse()\n",
    "    data = response.read()\n",
    "    print(data)\n",
    "    conn.close()\n",
    "except Exception as e:\n",
    "    print(\"[Errno {0}] {1}\".format(e.errno, e.strerror))"
   ]
  },
  {
   "cell_type": "markdown",
   "metadata": {},
   "source": [
    "Add a Person Face"
   ]
  },
  {
   "cell_type": "markdown",
   "metadata": {},
   "source": [
    "List Persons in a Person Group"
   ]
  },
  {
   "cell_type": "code",
   "execution_count": 15,
   "metadata": {
    "collapsed": false
   },
   "outputs": [
    {
     "name": "stdout",
     "output_type": "stream",
     "text": [
      "{\"error\":{\"code\":\"NotSupported\",\"message\":\"The current operation is not supported.\"}}\n"
     ]
    }
   ],
   "source": [
    "headers = {\n",
    "    # Request headers\n",
    "    'Ocp-Apim-Subscription-Key': _key,\n",
    "}\n",
    "\n",
    "params = urllib.urlencode({ 'personGroupId': 'taehee' \n",
    "})\n",
    "\n",
    "try:\n",
    "    conn = httplib.HTTPSConnection('api.projectoxford.ai')\n",
    "    conn.request(\"GET\", \"/face/v1.0/persongroups/{personGroupId}/persons?%s\" % params, \"{body}\", headers)\n",
    "    response = conn.getresponse()\n",
    "    data = response.read()\n",
    "    print(data)\n",
    "    conn.close()\n",
    "except Exception as e:\n",
    "    print(\"[Errno {0}] {1}\".format(e.errno, e.strerror))"
   ]
  },
  {
   "cell_type": "code",
   "execution_count": null,
   "metadata": {
    "collapsed": true
   },
   "outputs": [],
   "source": []
  },
  {
   "cell_type": "markdown",
   "metadata": {},
   "source": [
    "Identify face"
   ]
  },
  {
   "cell_type": "code",
   "execution_count": null,
   "metadata": {
    "collapsed": true
   },
   "outputs": [],
   "source": [
    "headers = {\n",
    "    # Request headers\n",
    "    'Content-Type': 'application/json',\n",
    "    'Ocp-Apim-Subscription-Key': _key,\n",
    "}\n",
    "\n",
    "params = urllib.urlencode({\n",
    "})\n",
    "\n",
    "body = {\n",
    "            \"personGroupId\":\"sample_group\",\n",
    "            \"faceIds\":[\n",
    "                        \"c5c24a82-6845-4031-9d5d-978df9175426\",\n",
    "                        \"65d083d4-9447-47d1-af30-b626144bf0fb\" \n",
    "        ],\n",
    "    \"maxNumOfCandidatesReturned\":1 \n",
    "        }\n",
    "\n",
    "\n",
    "try:\n",
    "    conn = httplib.HTTPSConnection('api.projectoxford.ai')\n",
    "    conn.request(\"POST\", \"/face/v1.0/identify?%s\" % params, \"{body}\", headers)\n",
    "    response = conn.getresponse()\n",
    "    data = response.read()\n",
    "    print(data)\n",
    "    conn.close()\n",
    "except Exception as e:\n",
    "    print(\"[Errno {0}] {1}\".format(e.errno, e.strerror))"
   ]
  },
  {
   "cell_type": "code",
   "execution_count": 22,
   "metadata": {
    "collapsed": true
   },
   "outputs": [
    {
     "data": {
      "text/plain": [
       "'\\ndef getPersonGroup():\\n    headers = {\\n       # Basic Authorization Sample\\n       # \\'Authorization\\': \\'Basic %s\\' % base64.encodestring(\\'{username}:{password}\\'),\\n       \\'Content-type\\': \\'application/json\\',\\n    }\\n \\n    params = urllib.parse.urlencode({\\n       # Specify your subscription key\\n       \\'subscription-key\\': \\'SUBSCRIPTION_KEY\\',\\n       #\\'personGroupId\\':\\'sample_group\\'\\n    })\\n \\n   \\n    try:\\n       conn = http.client.HTTPSConnection(\\'api.projectoxford.ai\\')\\n       conn.request(\"GET\", \"/face/v0/persongroups/sample_group?%s\" % params, \"\", headers)\\n       response = conn.getresponse()\\n       data = response.read()\\n       print(data)\\n       conn.close()\\n    except Exception as e:\\n       print(\"[Errno {0}] {1}\".format(e.errno, e.strerror))\\n \\n \\n \\ndef trainPersonGroup():\\n    headers = {\\n       # Basic Authorization Sample\\n       # \\'Authorization\\': \\'Basic %s\\' % base64.encodestring(\\'{username}:{password}\\'),\\n       \\'Content-type\\': \\'application/json\\',\\n    }\\n \\n    params = urllib.parse.urlencode({\\n       # Specify your subscription key\\n       \\'subscription-key\\': \\'SUBSCRIPTION_KEY\\',\\n       #\\'personGroupId\\':\\'sample_group\\'\\n    })\\n \\n   \\n    body = \\'{\"name\":\"sample_group\",\"userData\":\"user-provided data attached to the person group\"}\\'\\n    print( body)\\n \\n    try:\\n       conn = http.client.HTTPSConnection(\\'api.projectoxford.ai\\')\\n       conn.request(\"POST\", \"/face/v0/persongroups/sample_group/training?%s\" % params, body, headers)\\n       response = conn.getresponse()\\n       data = response.read()\\n       print(data)\\n       conn.close()\\n    except Exception as e:\\n       print(\"[Errno {0}] {1}\".format(e.errno, e.strerror))\\n \\n \\ndef getTrainingStatusPersonGroup():\\n    headers = {\\n       # Basic Authorization Sample\\n       # \\'Authorization\\': \\'Basic %s\\' % base64.encodestring(\\'{username}:{password}\\'),\\n       \\'Content-type\\': \\'application/json\\',\\n    }\\n \\n    params = urllib.parse.urlencode({\\n       # Specify your subscription key\\n       \\'subscription-key\\': \\'SUBSCRIPTION_KEY\\',\\n    })\\n \\n    try:\\n       conn = http.client.HTTPSConnection(\\'api.projectoxford.ai\\')\\n       conn.request(\"GET\", \"/face/v0/persongroups/sample_group/training?%s\" % params, body, headers)\\n       response = conn.getresponse()\\n       data = response.read()\\n       print(data.decode(\"utf-8\"))\\n       conn.close()\\n    except Exception as e:\\n       print(\"[Errno {0}] {1}\".format(e.errno, e.strerror))\\n \\n       \\ndef addPersonToGroup():\\n    headers = {\\n       # Basic Authorization Sample\\n       # \\'Authorization\\': \\'Basic %s\\' % base64.encodestring(\\'{username}:{password}\\'),\\n       \\'Content-type\\': \\'application/json\\',\\n    }\\n \\n    params = urllib.parse.urlencode({\\n       # Specify your subscription key\\n       \\'subscription-key\\': \\'SUBSCRIPTION_KEY\\',\\n       #\\'personGroupId\\':\\'sample_group\\'\\n    })\\n \\n \\n    faceIds = \"\"\\n    times = 3\\n    while times > 0:\\n        faceIds = faceIds + \\'\"\\' + findFaces()[0][\\'faceId\\'] + \\'\",\\'\\n        times -= 1\\n   \\n       \\n    body = \\'{\"faceIds\":[\\' +faceIds + \\'],\"name\":\"Jakob\",\"userData\":\"Jakob!\"}\\'\\n    print( body)\\n \\n    try:\\n       conn = http.client.HTTPSConnection(\\'api.projectoxford.ai\\')\\n       conn.request(\"POST\", \"/face/v0/persongroups/sample_group/persons?%s\" % params, body, headers)\\n       response = conn.getresponse()\\n       data = response.read()\\n       print(data)\\n       conn.close()\\n    except Exception as e:\\n       print(\"[Errno {0}] {1}\".format(e.errno, e.strerror))\\n \\n \\n#addPersonToGroup()\\n#createPersonGroup()\\n#getPersonGroup()\\nidentifyFace()\\n#trainPersonGroup()\\n#getTrainingStatusPersonGroup()\\n'"
      ]
     },
     "execution_count": 22,
     "metadata": {},
     "output_type": "execute_result"
    }
   ],
   "source": [
    "\n",
    "import time\n",
    "import picamera\n",
    "import http.client, urllib.request, urllib.parse, urllib.error, base64\n",
    "import json\n",
    " \n",
    "\n",
    "def takePicture():\n",
    "    with picamera.PiCamera() as camera:\n",
    "        camera.resolution = (1024, 768)\n",
    "        camera.start_preview()\n",
    "        # Camera warm-up time\n",
    "        time.sleep(2)\n",
    "        camera.capture('foo.jpg')\n",
    " \n",
    "def findFaces():\n",
    "    takePicture()\n",
    "       \n",
    "    headers = {\n",
    "       # Basic Authorization Sample\n",
    "       # 'Authorization': 'Basic %s' % base64.encodestring('{username}:{password}'),\n",
    "       'Content-type': 'application/octet-stream',\n",
    "    }\n",
    " \n",
    "    params = urllib.parse.urlencode({\n",
    "       # Specify your subscription key\n",
    "       'subscription-key': 'SUBSCRIPTION_KEY',\n",
    "       # Specify values for optional parameters, as needed\n",
    "       #'analyzesFaceLandmarks': 'false',\n",
    "       #'analyzesAge': 'yes',\n",
    "       #'analyzesGender': 'false',\n",
    "       #'analyzesHeadPose': 'false',\n",
    "    })\n",
    " \n",
    "    body = \"\"\n",
    "    filename = 'foo.jpg'\n",
    "    f = open(filename, \"rb\")\n",
    "    body = f.read()\n",
    "    f.close()\n",
    "   \n",
    "    try:\n",
    "       conn = http.client.HTTPSConnection('api.projectoxford.ai')\n",
    "       conn.request(\"POST\", \"/face/v0/detections?%s\" % params, body, headers)\n",
    "       response = conn.getresponse()\n",
    "       \n",
    "       data = response.read()\n",
    "       print(data)\n",
    "       conn.close()\n",
    "       data = json.loads(data.decode(\"utf-8\"))\n",
    "       \n",
    "       return data\n",
    "    except Exception as e:\n",
    "       print(\"[Errno {0}] {1}\".format(e.errno, e.strerror))\n",
    " \n",
    "def identifyFace():\n",
    "   \n",
    "    headers = {\n",
    "       # Basic Authorization Sample\n",
    "       # 'Authorization': 'Basic %s' % base64.encodestring('{username}:{password}'),\n",
    "       'Content-type': 'application/json',\n",
    "    }\n",
    " \n",
    "    params = urllib.parse.urlencode({\n",
    "       # Specify your subscription key\n",
    "       'subscription-key': 'SUBSCRIPTION_KEY',\n",
    "    })\n",
    " \n",
    " \n",
    "    data = findFaces()\n",
    "    if len(data) < 5:\n",
    "        print(\"No face detected\")\n",
    " \n",
    "    faceIds = data[0]['faceId']\n",
    "    print(faceIds)\n",
    "    body = '{\"faceIds\":[\"' +faceIds + '\"],\"personGroupId\":\"sample_group\",\"maxNumOfCandidatesReturned\":3}'\n",
    "    print( body)\n",
    " \n",
    "    personId = \"\"\n",
    " \n",
    "    try:\n",
    "       conn = http.client.HTTPSConnection('api.projectoxford.ai')\n",
    "       conn.request(\"POST\", \"/face/v0/identifications?%s\" % params, body, headers)\n",
    "       response = conn.getresponse()\n",
    "       \n",
    "       data = response.read()\n",
    "       print(data)\n",
    "       data = json.loads(data.decode(\"utf-8\"))\n",
    "       print(data[0])\n",
    "       print(data[0][\"candidates\"])\n",
    "       print(data[0][\"candidates\"][0])\n",
    "       print(data[0][\"candidates\"][0][\"personId\"])\n",
    "       #for key, value in data[0][\"candidates\"][0] :\n",
    "       #     print(value)\n",
    "       personId = data[0][\"candidates\"][0][\"personId\"]\n",
    "       print(\"No fail\")\n",
    "       \n",
    "       conn.close()\n",
    "    except Exception as e:\n",
    "       print(\"[Errno {0}] {1}\".format(e.errno, e.strerror))\n",
    " \n",
    "    headers = {\n",
    "       # Basic Authorization Sample\n",
    "       # 'Authorization': 'Basic %s' % base64.encodestring('{username}:{password}'),\n",
    "       'Content-type': 'application/json',\n",
    "    }\n",
    " \n",
    "    params = urllib.parse.urlencode({\n",
    "       # Specify your subscription key\n",
    "       'subscription-key': 'SUBSCRIPTION_KEY',\n",
    "    })\n",
    " \n",
    "    try:\n",
    "       conn = http.client.HTTPSConnection('api.projectoxford.ai')\n",
    "       url = \"/face/v0/personGroups/sample_group/persons/\" +  personId\n",
    "       conn.request(\"GET\", (url + \"?%s\") % params, \"\", headers)\n",
    "       response = conn.getresponse()\n",
    "       data = response.read()\n",
    "       data = json.loads(data.decode(\"utf-8\"))\n",
    "       print(\"#################################\")\n",
    "       print(\"#################################\")\n",
    "       print(\"#################################\")\n",
    "       print(\"#################################\")\n",
    "       print(\"WELCOME \" + data[\"name\"])\n",
    "       conn.close()\n",
    "    except Exception as e:\n",
    "       print(\"[Errno {0}] {1}\".format(e.errno, e.strerror))\n",
    " \n",
    "\n",
    "def getPersonGroup():\n",
    "    headers = {\n",
    "       # Basic Authorization Sample\n",
    "       # 'Authorization': 'Basic %s' % base64.encodestring('{username}:{password}'),\n",
    "       'Content-type': 'application/json',\n",
    "    }\n",
    " \n",
    "    params = urllib.parse.urlencode({\n",
    "       # Specify your subscription key\n",
    "       'subscription-key': 'SUBSCRIPTION_KEY',\n",
    "       #'personGroupId':'sample_group'\n",
    "    })\n",
    " \n",
    "   \n",
    "    try:\n",
    "       conn = http.client.HTTPSConnection('api.projectoxford.ai')\n",
    "       conn.request(\"GET\", \"/face/v0/persongroups/sample_group?%s\" % params, \"\", headers)\n",
    "       response = conn.getresponse()\n",
    "       data = response.read()\n",
    "       print(data)\n",
    "       conn.close()\n",
    "    except Exception as e:\n",
    "       print(\"[Errno {0}] {1}\".format(e.errno, e.strerror))\n",
    " \n",
    " \n",
    " \n",
    "def trainPersonGroup():\n",
    "    headers = {\n",
    "       # Basic Authorization Sample\n",
    "       # 'Authorization': 'Basic %s' % base64.encodestring('{username}:{password}'),\n",
    "       'Content-type': 'application/json',\n",
    "    }\n",
    " \n",
    "    params = urllib.parse.urlencode({\n",
    "       # Specify your subscription key\n",
    "       'subscription-key': 'SUBSCRIPTION_KEY',\n",
    "       #'personGroupId':'sample_group'\n",
    "    })\n",
    " \n",
    "   \n",
    "    body = '{\"name\":\"sample_group\",\"userData\":\"user-provided data attached to the person group\"}'\n",
    "    print( body)\n",
    " \n",
    "    try:\n",
    "       conn = http.client.HTTPSConnection('api.projectoxford.ai')\n",
    "       conn.request(\"POST\", \"/face/v0/persongroups/sample_group/training?%s\" % params, body, headers)\n",
    "       response = conn.getresponse()\n",
    "       data = response.read()\n",
    "       print(data)\n",
    "       conn.close()\n",
    "    except Exception as e:\n",
    "       print(\"[Errno {0}] {1}\".format(e.errno, e.strerror))\n",
    " \n",
    " \n",
    "def getTrainingStatusPersonGroup():\n",
    "    headers = {\n",
    "       # Basic Authorization Sample\n",
    "       # 'Authorization': 'Basic %s' % base64.encodestring('{username}:{password}'),\n",
    "       'Content-type': 'application/json',\n",
    "    }\n",
    " \n",
    "    params = urllib.parse.urlencode({\n",
    "       # Specify your subscription key\n",
    "       'subscription-key': 'SUBSCRIPTION_KEY',\n",
    "    })\n",
    " \n",
    "    try:\n",
    "       conn = http.client.HTTPSConnection('api.projectoxford.ai')\n",
    "       conn.request(\"GET\", \"/face/v0/persongroups/sample_group/training?%s\" % params, body, headers)\n",
    "       response = conn.getresponse()\n",
    "       data = response.read()\n",
    "       print(data.decode(\"utf-8\"))\n",
    "       conn.close()\n",
    "    except Exception as e:\n",
    "       print(\"[Errno {0}] {1}\".format(e.errno, e.strerror))\n",
    " \n",
    "       \n",
    "def addPersonToGroup():\n",
    "    headers = {\n",
    "       # Basic Authorization Sample\n",
    "       # 'Authorization': 'Basic %s' % base64.encodestring('{username}:{password}'),\n",
    "       'Content-type': 'application/json',\n",
    "    }\n",
    " \n",
    "    params = urllib.parse.urlencode({\n",
    "       # Specify your subscription key\n",
    "       'subscription-key': 'SUBSCRIPTION_KEY',\n",
    "       #'personGroupId':'sample_group'\n",
    "    })\n",
    " \n",
    " \n",
    "    faceIds = \"\"\n",
    "    times = 3\n",
    "    while times > 0:\n",
    "        faceIds = faceIds + '\"' + findFaces()[0]['faceId'] + '\",'\n",
    "        times -= 1\n",
    "   \n",
    "       \n",
    "    body = '{\"faceIds\":[' +faceIds + '],\"name\":\"Jakob\",\"userData\":\"Jakob!\"}'\n",
    "    print( body)\n",
    " \n",
    "    try:\n",
    "       conn = http.client.HTTPSConnection('api.projectoxford.ai')\n",
    "       conn.request(\"POST\", \"/face/v0/persongroups/sample_group/persons?%s\" % params, body, headers)\n",
    "       response = conn.getresponse()\n",
    "       data = response.read()\n",
    "       print(data)\n",
    "       conn.close()\n",
    "    except Exception as e:\n",
    "       print(\"[Errno {0}] {1}\".format(e.errno, e.strerror))\n",
    " \n",
    " \n",
    "#addPersonToGroup()\n",
    "#createPersonGroup()\n",
    "#getPersonGroup()\n",
    "identifyFace()\n",
    "#trainPersonGroup()\n",
    "#getTrainingStatusPersonGroup()"
   ]
  },
  {
   "cell_type": "code",
   "execution_count": 27,
   "metadata": {
    "collapsed": false
   },
   "outputs": [
    {
     "name": "stdout",
     "output_type": "stream",
     "text": [
      "{\"name\":\"sample_group\",\"userData\":\"user-provided data attached to the person group\"}\n"
     ]
    },
    {
     "ename": "AttributeError",
     "evalue": "'exceptions.NameError' object has no attribute 'errno'",
     "output_type": "error",
     "traceback": [
      "\u001b[1;31m---------------------------------------------------------------------------\u001b[0m",
      "\u001b[1;31mAttributeError\u001b[0m                            Traceback (most recent call last)",
      "\u001b[1;32m<ipython-input-27-c24c0ee0d110>\u001b[0m in \u001b[0;36m<module>\u001b[1;34m()\u001b[0m\n\u001b[0;32m     26\u001b[0m        \u001b[1;32mprint\u001b[0m\u001b[1;33m(\u001b[0m\u001b[1;34m\"[Errno {0}] {1}\"\u001b[0m\u001b[1;33m.\u001b[0m\u001b[0mformat\u001b[0m\u001b[1;33m(\u001b[0m\u001b[0me\u001b[0m\u001b[1;33m.\u001b[0m\u001b[0merrno\u001b[0m\u001b[1;33m,\u001b[0m \u001b[0me\u001b[0m\u001b[1;33m.\u001b[0m\u001b[0mstrerror\u001b[0m\u001b[1;33m)\u001b[0m\u001b[1;33m)\u001b[0m\u001b[1;33m\u001b[0m\u001b[0m\n\u001b[0;32m     27\u001b[0m \u001b[1;33m\u001b[0m\u001b[0m\n\u001b[1;32m---> 28\u001b[1;33m \u001b[0mcreatePerson\u001b[0m\u001b[1;33m(\u001b[0m\u001b[1;33m)\u001b[0m\u001b[1;33m\u001b[0m\u001b[0m\n\u001b[0m\u001b[0;32m     29\u001b[0m \u001b[1;33m\u001b[0m\u001b[0m\n\u001b[0;32m     30\u001b[0m \u001b[1;33m\u001b[0m\u001b[0m\n",
      "\u001b[1;32m<ipython-input-27-c24c0ee0d110>\u001b[0m in \u001b[0;36mcreatePerson\u001b[1;34m()\u001b[0m\n\u001b[0;32m     24\u001b[0m        \u001b[0mconn\u001b[0m\u001b[1;33m.\u001b[0m\u001b[0mclose\u001b[0m\u001b[1;33m(\u001b[0m\u001b[1;33m)\u001b[0m\u001b[1;33m\u001b[0m\u001b[0m\n\u001b[0;32m     25\u001b[0m     \u001b[1;32mexcept\u001b[0m \u001b[0mException\u001b[0m \u001b[1;32mas\u001b[0m \u001b[0me\u001b[0m\u001b[1;33m:\u001b[0m\u001b[1;33m\u001b[0m\u001b[0m\n\u001b[1;32m---> 26\u001b[1;33m        \u001b[1;32mprint\u001b[0m\u001b[1;33m(\u001b[0m\u001b[1;34m\"[Errno {0}] {1}\"\u001b[0m\u001b[1;33m.\u001b[0m\u001b[0mformat\u001b[0m\u001b[1;33m(\u001b[0m\u001b[0me\u001b[0m\u001b[1;33m.\u001b[0m\u001b[0merrno\u001b[0m\u001b[1;33m,\u001b[0m \u001b[0me\u001b[0m\u001b[1;33m.\u001b[0m\u001b[0mstrerror\u001b[0m\u001b[1;33m)\u001b[0m\u001b[1;33m)\u001b[0m\u001b[1;33m\u001b[0m\u001b[0m\n\u001b[0m\u001b[0;32m     27\u001b[0m \u001b[1;33m\u001b[0m\u001b[0m\n\u001b[0;32m     28\u001b[0m \u001b[0mcreatePerson\u001b[0m\u001b[1;33m(\u001b[0m\u001b[1;33m)\u001b[0m\u001b[1;33m\u001b[0m\u001b[0m\n",
      "\u001b[1;31mAttributeError\u001b[0m: 'exceptions.NameError' object has no attribute 'errno'"
     ]
    }
   ],
   "source": [
    "def createPerson():\n",
    "    headers = {\n",
    "       # Basic Authorization Sample\n",
    "       # 'Authorization': 'Basic %s' % base64.encodestring('{username}:{password}'),\n",
    "       'Content-type': 'application/json',\n",
    "    }\n",
    " \n",
    "    params = urllib.urlencode({\n",
    "       # Specify your subscription key\n",
    "       'subscription-key': _key,\n",
    "       'personGroupId':'sample_group'\n",
    "    })\n",
    " \n",
    "   \n",
    "    body = '{\"name\":\"sample_group\",\"userData\":\"user-provided data attached to the person group\"}'\n",
    "    print( body)\n",
    " \n",
    "    try:\n",
    "       conn = http.client.HTTPSConnection('api.projectoxford.ai')\n",
    "       conn.request(\"POST\", \"/face/v0/persongroups/sample_group/persons?%s\" % params, body, headers)\n",
    "       response = conn.getresponse()\n",
    "       data = response.read()\n",
    "       print(data)\n",
    "       conn.close()\n",
    "    except Exception as e:\n",
    "       print(\"[Errno {0}] {1}\".format(e.errno, e.strerror))"
   ]
  }
 ],
 "metadata": {
  "kernelspec": {
   "display_name": "Python 2",
   "language": "python",
   "name": "python2"
  },
  "language_info": {
   "codemirror_mode": {
    "name": "ipython",
    "version": 2
   },
   "file_extension": ".py",
   "mimetype": "text/x-python",
   "name": "python",
   "nbconvert_exporter": "python",
   "pygments_lexer": "ipython2",
   "version": "2.7.11"
  }
 },
 "nbformat": 4,
 "nbformat_minor": 0
}
