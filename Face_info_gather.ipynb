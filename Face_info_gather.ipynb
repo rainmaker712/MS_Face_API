{
 "cells": [
  {
   "cell_type": "code",
   "execution_count": null,
   "metadata": {
    "collapsed": true
   },
   "outputs": [],
   "source": [
    "import os,http, http.client, urllib.request, urllib.parse, urllib.error, base64,json\n",
    "\n",
    "headers = {\n",
    "   # Basic Authorization Sample\n",
    "   # 'Authorization': 'Basic %s' % base64.encodestring('{username}:{password}'),\n",
    "   'Content-type': 'application/json',\n",
    "}\n",
    "\n",
    "params = urllib.parse.urlencode({\n",
    "   # Specify your subscription key\n",
    "   'subscription-key': '***',\n",
    "   })\n",
    "body={'faceIds':['1c20555f-14af-4b14-8c0e-e2d85bfec6ab','64d70ce8-2faa-412c-a38a-ef6bba13019d','9b6b536b-dd63-4847-b473-c6dc0d885d91','2200ac63-82d5-4942-bdc2-99e628c8d599']}\n",
    "jdata = json.dumps(body)\n",
    "try:\n",
    "   conn = http.client.HTTPSConnection('api.projectoxford.ai')\n",
    "   conn.request(\"POST\", \"/face/v0/groupings?%s\" % params,jdata, headers)\n",
    "   print(\"send request\")\n",
    "   response = conn.getresponse()\n",
    "   data = response.read()\n",
    "   print(data)\n",
    "   conn.close()\n",
    "except Exception as e:\n",
    "   print(\"[Errno {0}] {1}\".format(e.errno, e.strerror))"
   ]
  },
  {
   "cell_type": "code",
   "execution_count": null,
   "metadata": {
    "collapsed": true
   },
   "outputs": [],
   "source": [
    "#similarity\n",
    "\n",
    "import os,http, http.client, urllib.request, urllib.parse, urllib.error, base64,json\n",
    "\n",
    "headers = {\n",
    "   # Basic Authorization Sample\n",
    "   # 'Authorization': 'Basic %s' % base64.encodestring('{username}:{password}'),\n",
    "   'Content-type': 'application/json',\n",
    "}\n",
    "\n",
    "params = urllib.parse.urlencode({\n",
    "   # Specify your subscription key\n",
    "   'subscription-key': '***',\n",
    "})\n",
    "body={'faceId':'1c20555f-14af-4b14-8c0e-e2d85bfec6ab','faceIds':['64d70ce8-2faa-412c-a38a-ef6bba13019d','9b6b536b-dd63-4847-b473-c6dc0d885d91','2200ac63-82d5-4942-bdc2-99e628c8d599']}\n",
    "jdata = json.dumps(body)\n",
    "try:\n",
    "   conn = http.client.HTTPSConnection('api.projectoxford.ai')\n",
    "   conn.request(\"POST\", \"/face/v0/findsimilars?%s\" % params,jdata, headers)\n",
    "   print(\"send request\")\n",
    "   response = conn.getresponse()\n",
    "   data = response.read()\n",
    "   print(data)\n",
    "   conn.close()\n",
    "except Exception as e:\n",
    "   print(\"[Errno {0}] {1}\".format(e.errno, e.strerror))"
   ]
  }
 ],
 "metadata": {
  "kernelspec": {
   "display_name": "Python 2",
   "language": "python",
   "name": "python2"
  },
  "language_info": {
   "codemirror_mode": {
    "name": "ipython",
    "version": 2
   },
   "file_extension": ".py",
   "mimetype": "text/x-python",
   "name": "python",
   "nbconvert_exporter": "python",
   "pygments_lexer": "ipython2",
   "version": "2.7.11"
  }
 },
 "nbformat": 4,
 "nbformat_minor": 0
}
