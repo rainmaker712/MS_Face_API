{
 "cells": [
  {
   "cell_type": "markdown",
   "metadata": {},
   "source": [
    "# Project Oxford: Face API\n"
   ]
  },
  {
   "cell_type": "code",
   "execution_count": 1,
   "metadata": {
    "collapsed": false
   },
   "outputs": [],
   "source": [
    "import time \n",
    "import requests\n",
    "import cv2\n",
    "import operator\n",
    "import numpy as np\n",
    "from __future__ import print_function\n",
    "\n",
    "# Import library to display results\n",
    "import matplotlib.pyplot as plt\n",
    "%matplotlib inline \n",
    "# Display images within Jupyter\n",
    "import httplib, urllib, base64 #General API Usage"
   ]
  },
  {
   "cell_type": "code",
   "execution_count": 2,
   "metadata": {
    "collapsed": false
   },
   "outputs": [],
   "source": [
    "# Variables\n",
    "\n",
    "_url_detect = 'https://api.projectoxford.ai/face/v1.0/detect'\n",
    "_url_verify = 'https://api.projectoxford.ai/face/v1.0/verify'\n",
    "_url_group = 'https://api.projectoxford.ai/face/v1.0/group'\n",
    "_key = '0b8afa8909154432bafeed6a3217fcde' #Here you have to paste your primary key\n",
    "_maxNumRetries = 10"
   ]
  },
  {
   "cell_type": "markdown",
   "metadata": {},
   "source": [
    "## 1. Face Detection (To get faceId)"
   ]
  },
  {
   "cell_type": "code",
   "execution_count": 3,
   "metadata": {
    "collapsed": true
   },
   "outputs": [],
   "source": [
    "def detectionRequest( json, data, headers, params ):\n",
    "\n",
    "    \"\"\"\n",
    "    Helper function to process the request to Project Oxford\n",
    "\n",
    "    Parameters:\n",
    "    json: Used when processing images from its URL. See API Documentation\n",
    "    data: Used when processing image read from disk. See API Documentation\n",
    "    headers: Used to pass the key information and the data type request\n",
    "    \"\"\"\n",
    "\n",
    "    retries = 0\n",
    "    result = None\n",
    "\n",
    "    while True:\n",
    "\n",
    "        response = requests.request( 'post', _url_detect, json = json, data = data, headers = headers, params = params )\n",
    "\n",
    "        if response.status_code == 429: \n",
    "\n",
    "            print( \"Message: %s\" % ( response.json()['error']['message'] ) )\n",
    "\n",
    "            if retries <= _maxNumRetries: \n",
    "                time.sleep(1) \n",
    "                retries += 1\n",
    "                continue\n",
    "            else: \n",
    "                print( 'Error: failed after retrying!' )\n",
    "                break\n",
    "\n",
    "        elif response.status_code == 200 or response.status_code == 201:\n",
    "\n",
    "            if 'content-length' in response.headers and int(response.headers['content-length']) == 0: \n",
    "                result = None \n",
    "            elif 'content-type' in response.headers and isinstance(response.headers['content-type'], str): \n",
    "                if 'application/json' in response.headers['content-type'].lower(): \n",
    "                    result = response.json() if response.content else None \n",
    "                elif 'image' in response.headers['content-type'].lower(): \n",
    "                    result = response.content\n",
    "        else:\n",
    "            print( \"Error code: %d\" % ( response.status_code ) )\n",
    "            print( \"Message: %s\" % ( response.json()['error']['message'] ) )\n",
    "\n",
    "        break\n",
    "        \n",
    "    return result"
   ]
  },
  {
   "cell_type": "code",
   "execution_count": 4,
   "metadata": {
    "collapsed": true
   },
   "outputs": [],
   "source": [
    "def renderResultOnImage( result, img ):\n",
    "    \n",
    "    \"\"\"Display the obtained results onto the input image\"\"\"\n",
    "\n",
    "    for currFace in result:\n",
    "        faceRectangle = currFace['faceRectangle']\n",
    "        cv2.rectangle( img,(faceRectangle['left'],faceRectangle['top']),\n",
    "                           (faceRectangle['left']+faceRectangle['width'], faceRectangle['top'] + faceRectangle['height']),\n",
    "                       color = (255,0,0), thickness = 1 )\n",
    "\n",
    "        faceLandmarks = currFace['faceLandmarks']\n",
    "\n",
    "        for _, currLandmark in faceLandmarks.items():\n",
    "            cv2.circle( img, (int(currLandmark['x']),int(currLandmark['y'])), color = (0,255,0), thickness= -1, radius = 1 )\n",
    "\n",
    "    for currFace in result:\n",
    "        faceRectangle = currFace['faceRectangle']\n",
    "        faceAttributes = currFace['faceAttributes']\n",
    "\n",
    "        textToWrite = \"%c (%d)\" % ( 'M' if faceAttributes['gender']=='male' else 'F', faceAttributes['age'] )\n",
    "        cv2.putText( img, textToWrite, (faceRectangle['left'],faceRectangle['top']-15), cv2.FONT_HERSHEY_SIMPLEX, 0.5, (255,255,255), 1 )"
   ]
  },
  {
   "cell_type": "markdown",
   "metadata": {},
   "source": [
    "##   Face detection"
   ]
  },
  {
   "cell_type": "markdown",
   "metadata": {},
   "source": [
    "폴더 내에 있는 페이스 아이디 저장하기: test_faceId"
   ]
  },
  {
   "cell_type": "code",
   "execution_count": 23,
   "metadata": {
    "collapsed": false
   },
   "outputs": [
    {
     "name": "stdout",
     "output_type": "stream",
     "text": [
      "success\n",
      "success\n",
      "success\n",
      "success\n",
      "success\n",
      "success\n"
     ]
    }
   ],
   "source": [
    "import os\n",
    "\n",
    "# Face detection parameters\n",
    "params = { 'returnFaceAttributes': 'age,gender', \n",
    "           'returnFaceLandmarks': 'true'} \n",
    "\n",
    "headers = dict()\n",
    "headers['Ocp-Apim-Subscription-Key'] = _key\n",
    "headers['Content-Type'] = 'application/octet-stream'\n",
    "\n",
    "json = None\n",
    "\n",
    "cur_dir = '/Users/robot/git_ryan/MS_Face_API/image/Park/park_etc/'\n",
    "test_file = os.listdir(cur_dir)\n",
    "\n",
    "test_faceId = [] #face id info\n",
    "file_name = [] #directory file name\n",
    "data_name = [] #data directory\n",
    "\n",
    "for i in xrange(0, len(test_file)):\n",
    "    file_name.append(cur_dir + test_file[i])\n",
    "    \n",
    "    with open (file_name[i], 'rb') as f:\n",
    "        data = f.read()\n",
    "        data_name.append(data)\n",
    "\n",
    "    try:\n",
    "        result = detectionRequest( json, data, headers, params )\n",
    "        test_faceId.append( result[0]['faceId'])\n",
    "        time.sleep(1)\n",
    "        print(\"success\")\n",
    "    except:\n",
    "        print(\"fail filename: %s\" %file_name[i])"
   ]
  },
  {
   "cell_type": "code",
   "execution_count": null,
   "metadata": {
    "collapsed": true
   },
   "outputs": [],
   "source": [
    "len(test_file)\n",
    "len(test_faceId)"
   ]
  },
  {
   "cell_type": "code",
   "execution_count": 28,
   "metadata": {
    "collapsed": false
   },
   "outputs": [
    {
     "data": {
      "text/plain": [
       "u'c8091e09-490e-4209-908e-6008594f5a89'"
      ]
     },
     "execution_count": 28,
     "metadata": {},
     "output_type": "execute_result"
    }
   ],
   "source": [
    "test_faceId[0]"
   ]
  },
  {
   "cell_type": "code",
   "execution_count": null,
   "metadata": {
    "collapsed": true
   },
   "outputs": [],
   "source": []
  },
  {
   "cell_type": "code",
   "execution_count": 24,
   "metadata": {
    "collapsed": false
   },
   "outputs": [
    {
     "data": {
      "text/plain": [
       "6"
      ]
     },
     "execution_count": 24,
     "metadata": {},
     "output_type": "execute_result"
    }
   ],
   "source": []
  },
  {
   "cell_type": "code",
   "execution_count": 25,
   "metadata": {
    "collapsed": false
   },
   "outputs": [
    {
     "data": {
      "text/plain": [
       "6"
      ]
     },
     "execution_count": 25,
     "metadata": {},
     "output_type": "execute_result"
    }
   ],
   "source": []
  },
  {
   "cell_type": "code",
   "execution_count": 16,
   "metadata": {
    "collapsed": false
   },
   "outputs": [
    {
     "name": "stdout",
     "output_type": "stream",
     "text": [
      "[u'06f10019-6190-43c9-9a50-985592cb6229', u'41e25daa-7ad4-4e56-be06-919dae46c2dc', u'e3c7af6b-74a4-4401-9e44-87a3fc7d3f5f', u'ae5012d4-f2ea-4aa1-8302-af8f8432f820', u'e751ccc5-3ad4-49fa-885d-c54ebc1827d3', u'c9042298-cf29-4705-8726-fb2eb9390d1b', u'b80528a0-5753-496c-8f40-2f66368219a3', u'ca551e36-98af-42c8-b143-5e75fd7ce906', u'0db27b01-cfcd-438d-8241-61f06ec0e27c', u'4ff5f7b7-5c60-4f0a-a08b-99979618aae6', u'68974d35-1ff7-4b41-9822-ac80be175524', u'd65fddd2-e44e-4228-9f08-a0c3e7e57f4a', u'834e2ef4-5c1b-4759-bee2-d9afbf8cce63', u'332ad24b-5bb1-40c6-8d81-8df996e074f9']\n"
     ]
    }
   ],
   "source": [
    "import cPickle as pickle\n",
    "\n",
    "pickle.dump( test_faceId, open( \"faceId.p\", \"wb\"))\n",
    "\n",
    "face_id = pickle.load( open ( \"faceId.p\", \"rb\"))\n",
    "print(face_id)"
   ]
  },
  {
   "cell_type": "code",
   "execution_count": 17,
   "metadata": {
    "collapsed": false
   },
   "outputs": [
    {
     "data": {
      "text/plain": [
       "u'06f10019-6190-43c9-9a50-985592cb6229'"
      ]
     },
     "execution_count": 17,
     "metadata": {},
     "output_type": "execute_result"
    }
   ],
   "source": []
  },
  {
   "cell_type": "code",
   "execution_count": null,
   "metadata": {
    "collapsed": true
   },
   "outputs": [],
   "source": [
    "try:\n",
    "\n",
    "(role, line_spoken) = each_line.split(':')\n",
    "\n",
    "line_spoken = line_spoken.strip()\n",
    "\n",
    "if role == 'Man':\n",
    "\n",
    "man.append(line_spoken)\n",
    "\n",
    "elif role == 'Other Man':\n",
    "\n",
    "other.append(line_spoken)\n",
    "\n",
    "else:\n",
    "\n",
    "pass\n",
    "\n",
    "except ValueError:\n",
    "\n",
    "pass\n",
    "\n",
    " \n",
    "\n",
    "data.close()\n",
    "\n",
    "except IOError:\n",
    "\n",
    "print('The datafile is missing!')"
   ]
  },
  {
   "cell_type": "markdown",
   "metadata": {},
   "source": [
    "## Face Data 출력하기"
   ]
  },
  {
   "cell_type": "code",
   "execution_count": null,
   "metadata": {
    "collapsed": true
   },
   "outputs": [],
   "source": [
    "#TODO 수정필요\n",
    "\n",
    "if result[0] is not None:\n",
    "    # Load the original image from disk\n",
    "    data8uint = np.fromstring( data[0], np.uint8 ) # Convert string to an unsigned int array\n",
    "    img = cv2.cvtColor( cv2.imdecode( data8uint, cv2.IMREAD_COLOR ), cv2.COLOR_BGR2RGB )\n",
    "\n",
    "    renderResultOnImage( result[0], img )\n",
    "\n",
    "    ig, ax = plt.subplots(figsize=(15, 20))\n",
    "    ax.imshow( img )"
   ]
  },
  {
   "cell_type": "markdown",
   "metadata": {},
   "source": [
    "## 2. Face Grouping (Need faceId)"
   ]
  },
  {
   "cell_type": "code",
   "execution_count": 8,
   "metadata": {
    "collapsed": true
   },
   "outputs": [],
   "source": [
    "def groupRequest( json, data, headers, params ):\n",
    "\n",
    "    \"\"\"\n",
    "    Helper function to process the request to Project Oxford\n",
    "\n",
    "    Parameters:\n",
    "    json: Used when processing images from its URL. See API Documentation\n",
    "    data: Used when processing image read from disk. See API Documentation\n",
    "    headers: Used to pass the key information and the data type request\n",
    "    \"\"\"\n",
    "\n",
    "    retries = 0\n",
    "    result = None\n",
    "\n",
    "    while True:\n",
    "\n",
    "        response = requests.request( 'post', _url_group, json = json, data = data, headers = headers, params = params )\n",
    "\n",
    "        if response.status_code == 429: \n",
    "\n",
    "            print( \"Message: %s\" % ( response.json()['error']['message'] ) )\n",
    "\n",
    "            if retries <= _maxNumRetries: \n",
    "                time.sleep(1) \n",
    "                retries += 1\n",
    "                continue\n",
    "            else: \n",
    "                print( 'Error: failed after retrying!' )\n",
    "                break\n",
    "\n",
    "        elif response.status_code == 200 or response.status_code == 201:\n",
    "\n",
    "            if 'content-length' in response.headers and int(response.headers['content-length']) == 0: \n",
    "                result = None \n",
    "            elif 'content-type' in response.headers and isinstance(response.headers['content-type'], str): \n",
    "                if 'application/json' in response.headers['content-type'].lower(): \n",
    "                    result = response.json() if response.content else None \n",
    "                elif 'image' in response.headers['content-type'].lower(): \n",
    "                    result = response.content\n",
    "        else:\n",
    "            print( \"Error code: %d\" % ( response.status_code ) )\n",
    "            print( \"Message: %s\" % ( response.json()['error']['message'] ) )\n",
    "\n",
    "        break\n",
    "        \n",
    "    return result"
   ]
  },
  {
   "cell_type": "code",
   "execution_count": 9,
   "metadata": {
    "collapsed": true
   },
   "outputs": [
    {
     "data": {
      "text/plain": [
       "[u'c82aa806-0849-489d-8fa0-6297b7bd6e20',\n",
       " u'fc46ab2a-6432-4d4c-9cc0-3b2d648c3de3',\n",
       " u'20539f8b-a0ab-43da-ab17-7fd001b20d94',\n",
       " u'95294793-6b0d-470e-a18f-136d514fbca1',\n",
       " u'4254d400-4ccd-486b-b0ad-7d3eee5f6169',\n",
       " u'364d8f3f-64e6-4274-bee5-4ede40d8400f',\n",
       " u'a61d5b8f-5e5c-4e0a-9b80-06e2845f42e5',\n",
       " u'4c59351c-cd49-4ca6-a3a0-3c5c58c2d9ae',\n",
       " u'31f6a1f0-5eea-495a-8a2f-75ad258d4b21',\n",
       " u'b0c998aa-cde5-472f-a114-ed9c5a673f3f',\n",
       " u'24a2ab77-efe8-4236-b592-ec0762a83804',\n",
       " u'6d950d29-015a-4b00-9a80-b8090df66a44',\n",
       " u'f57e7f16-567f-4f0d-863d-eaf69dd373f3',\n",
       " u'f7b81aca-f3ae-442b-abd6-d0d0261f3932']"
      ]
     },
     "execution_count": 9,
     "metadata": {},
     "output_type": "execute_result"
    }
   ],
   "source": [
    "\n",
    "test_faceId"
   ]
  },
  {
   "cell_type": "code",
   "execution_count": 14,
   "metadata": {
    "collapsed": false,
    "scrolled": true
   },
   "outputs": [
    {
     "name": "stdout",
     "output_type": "stream",
     "text": [
      "[[u'4c59351c-cd49-4ca6-a3a0-3c5c58c2d9ae', u'31f6a1f0-5eea-495a-8a2f-75ad258d4b21', u'fc46ab2a-6432-4d4c-9cc0-3b2d648c3de3', u'6d950d29-015a-4b00-9a80-b8090df66a44', u'95294793-6b0d-470e-a18f-136d514fbca1', u'4254d400-4ccd-486b-b0ad-7d3eee5f6169', u'b0c998aa-cde5-472f-a114-ed9c5a673f3f', u'24a2ab77-efe8-4236-b592-ec0762a83804'], [u'20539f8b-a0ab-43da-ab17-7fd001b20d94', u'c82aa806-0849-489d-8fa0-6297b7bd6e20'], [u'a61d5b8f-5e5c-4e0a-9b80-06e2845f42e5', u'f7b81aca-f3ae-442b-abd6-d0d0261f3932'], [u'364d8f3f-64e6-4274-bee5-4ede40d8400f', u'f57e7f16-567f-4f0d-863d-eaf69dd373f3']]\n"
     ]
    }
   ],
   "source": [
    "params = None\n",
    "\n",
    "headers = dict()\n",
    "\n",
    "headers['Ocp-Apim-Subscription-Key'] = _key\n",
    "headers['Content-Type'] = 'application/json'\n",
    "\n",
    "data = None\n",
    "\n",
    "json = { 'faceIds': test_faceId } \n",
    "\n",
    "result = groupRequest( json, data, headers, params )\n",
    "print(result['groups'])"
   ]
  },
  {
   "cell_type": "code",
   "execution_count": null,
   "metadata": {
    "collapsed": true
   },
   "outputs": [],
   "source": []
  },
  {
   "cell_type": "code",
   "execution_count": null,
   "metadata": {
    "collapsed": true
   },
   "outputs": [],
   "source": []
  },
  {
   "cell_type": "code",
   "execution_count": null,
   "metadata": {
    "collapsed": true
   },
   "outputs": [],
   "source": []
  },
  {
   "cell_type": "code",
   "execution_count": null,
   "metadata": {
    "collapsed": true
   },
   "outputs": [],
   "source": []
  },
  {
   "cell_type": "code",
   "execution_count": null,
   "metadata": {
    "collapsed": true
   },
   "outputs": [],
   "source": []
  },
  {
   "cell_type": "markdown",
   "metadata": {},
   "source": [
    "## 3. Face Verification (Need faceId)"
   ]
  },
  {
   "cell_type": "code",
   "execution_count": 166,
   "metadata": {
    "collapsed": true
   },
   "outputs": [],
   "source": [
    "def verificationRequest( json, data, headers, params ):\n",
    "\n",
    "    \"\"\"\n",
    "    Helper function to process the request to Project Oxford\n",
    "\n",
    "    Parameters:\n",
    "    json: Used when processing images from its URL. See API Documentation\n",
    "    data: Used when processing image read from disk. See API Documentation\n",
    "    headers: Used to pass the key information and the data type request\n",
    "    \"\"\"\n",
    "\n",
    "    retries = 0\n",
    "    result = None\n",
    "\n",
    "    while True:\n",
    "\n",
    "        response = requests.request( 'post', _url_verify, json = json, data = data, headers = headers, params = params )\n",
    "\n",
    "        if response.status_code == 429: \n",
    "\n",
    "            print( \"Message: %s\" % ( response.json()['error']['message'] ) )\n",
    "\n",
    "            if retries <= _maxNumRetries: \n",
    "                time.sleep(1) \n",
    "                retries += 1\n",
    "                continue\n",
    "            else: \n",
    "                print( 'Error: failed after retrying!' )\n",
    "                break\n",
    "\n",
    "        elif response.status_code == 200 or response.status_code == 201:\n",
    "\n",
    "            if 'content-length' in response.headers and int(response.headers['content-length']) == 0: \n",
    "                result = None \n",
    "            elif 'content-type' in response.headers and isinstance(response.headers['content-type'], str): \n",
    "                if 'application/json' in response.headers['content-type'].lower(): \n",
    "                    result = response.json() if response.content else None \n",
    "                elif 'image' in response.headers['content-type'].lower(): \n",
    "                    result = response.content\n",
    "        else:\n",
    "            print( \"Error code: %d\" % ( response.status_code ) )\n",
    "            print( \"Message: %s\" % ( response.json()['error']['message'] ) )\n",
    "\n",
    "        break\n",
    "        \n",
    "    return result"
   ]
  },
  {
   "cell_type": "code",
   "execution_count": 195,
   "metadata": {
    "collapsed": true
   },
   "outputs": [
    {
     "ename": "KeyboardInterrupt",
     "evalue": "",
     "output_type": "error",
     "traceback": [
      "\u001b[0;31m---------------------------------------------------------------------------\u001b[0m",
      "\u001b[0;31mKeyboardInterrupt\u001b[0m                         Traceback (most recent call last)",
      "\u001b[0;32m<ipython-input-195-4c4233c029bb>\u001b[0m in \u001b[0;36m<module>\u001b[0;34m()\u001b[0m\n\u001b[1;32m     17\u001b[0m \u001b[0;32mfor\u001b[0m \u001b[0mi\u001b[0m \u001b[0;32min\u001b[0m \u001b[0mxrange\u001b[0m\u001b[0;34m(\u001b[0m\u001b[0mlen\u001b[0m\u001b[0;34m(\u001b[0m\u001b[0mtest_file\u001b[0m\u001b[0;34m)\u001b[0m\u001b[0;34m)\u001b[0m\u001b[0;34m:\u001b[0m\u001b[0;34m\u001b[0m\u001b[0m\n\u001b[1;32m     18\u001b[0m     \u001b[0mjson\u001b[0m \u001b[0;34m=\u001b[0m \u001b[0;34m{\u001b[0m \u001b[0;34m'faceId1'\u001b[0m\u001b[0;34m:\u001b[0m \u001b[0mtest_faceId\u001b[0m\u001b[0;34m[\u001b[0m\u001b[0mi\u001b[0m\u001b[0;34m]\u001b[0m\u001b[0;34m,\u001b[0m \u001b[0;34m'faceId2'\u001b[0m\u001b[0;34m:\u001b[0m \u001b[0mtest_faceId\u001b[0m\u001b[0;34m[\u001b[0m\u001b[0mi\u001b[0m\u001b[0;34m+\u001b[0m\u001b[0;36m1\u001b[0m\u001b[0;34m]\u001b[0m \u001b[0;34m}\u001b[0m\u001b[0;34m\u001b[0m\u001b[0m\n\u001b[0;32m---> 19\u001b[0;31m     \u001b[0mresult\u001b[0m \u001b[0;34m=\u001b[0m \u001b[0mverificationRequest\u001b[0m\u001b[0;34m(\u001b[0m \u001b[0mjson\u001b[0m\u001b[0;34m,\u001b[0m \u001b[0mdata\u001b[0m\u001b[0;34m,\u001b[0m \u001b[0mheaders\u001b[0m\u001b[0;34m,\u001b[0m \u001b[0mparams\u001b[0m \u001b[0;34m)\u001b[0m\u001b[0;34m\u001b[0m\u001b[0m\n\u001b[0m\u001b[1;32m     20\u001b[0m     \u001b[0;32mprint\u001b[0m\u001b[0;34m(\u001b[0m\u001b[0mresult\u001b[0m\u001b[0;34m)\u001b[0m\u001b[0;34m\u001b[0m\u001b[0m\n\u001b[1;32m     21\u001b[0m \u001b[0;34m\u001b[0m\u001b[0m\n",
      "\u001b[0;32m<ipython-input-166-a5dbd3a58253>\u001b[0m in \u001b[0;36mverificationRequest\u001b[0;34m(json, data, headers, params)\u001b[0m\n\u001b[1;32m     22\u001b[0m \u001b[0;34m\u001b[0m\u001b[0m\n\u001b[1;32m     23\u001b[0m             \u001b[0;32mif\u001b[0m \u001b[0mretries\u001b[0m \u001b[0;34m<=\u001b[0m \u001b[0m_maxNumRetries\u001b[0m\u001b[0;34m:\u001b[0m\u001b[0;34m\u001b[0m\u001b[0m\n\u001b[0;32m---> 24\u001b[0;31m                 \u001b[0mtime\u001b[0m\u001b[0;34m.\u001b[0m\u001b[0msleep\u001b[0m\u001b[0;34m(\u001b[0m\u001b[0;36m1\u001b[0m\u001b[0;34m)\u001b[0m\u001b[0;34m\u001b[0m\u001b[0m\n\u001b[0m\u001b[1;32m     25\u001b[0m                 \u001b[0mretries\u001b[0m \u001b[0;34m+=\u001b[0m \u001b[0;36m1\u001b[0m\u001b[0;34m\u001b[0m\u001b[0m\n\u001b[1;32m     26\u001b[0m                 \u001b[0;32mcontinue\u001b[0m\u001b[0;34m\u001b[0m\u001b[0m\n",
      "\u001b[0;31mKeyboardInterrupt\u001b[0m: "
     ]
    }
   ],
   "source": [
    "# Face Simliarity parameters\n",
    "\n",
    "#params = { 'faceId1': 'a0747ea2-b8a3-44ec-80f0-04b6a8b0f6cc', \n",
    "#           'faceId2': '77a2d1d0-c43f-4033-bfc5-c5af55ffe72c'} \n",
    "\n",
    "params = None\n",
    "\n",
    "headers = dict()\n",
    "\n",
    "headers['Ocp-Apim-Subscription-Key'] = _key\n",
    "headers['Content-Type'] = 'application/json'\n",
    "                                                    \n",
    "#json = None\n",
    "\n",
    "data = None\n",
    "\n",
    "for i in xrange(len(test_file)):\n",
    "    json = { 'faceId1': test_faceId[i], 'faceId2': test_faceId[i+1] } \n",
    "    result = verificationRequest( json, data, headers, params )\n",
    "    print(result)\n",
    "\n",
    "#print(result)\n",
    "#print(result[\"isIdentical\"])\n",
    "#print(result[\"confidence\"])\n",
    "\n",
    "\n",
    "#print(result[0][\"faceId\"])\n",
    "#a0747ea2-b8a3-44ec-80f0-04b6a8b0f6cc\n",
    "#77a2d1d0-c43f-4033-bfc5-c5af55ffe72c"
   ]
  }
 ],
 "metadata": {
  "kernelspec": {
   "display_name": "Python 2",
   "language": "python",
   "name": "python2"
  },
  "language_info": {
   "codemirror_mode": {
    "name": "ipython",
    "version": 2
   },
   "file_extension": ".py",
   "mimetype": "text/x-python",
   "name": "python",
   "nbconvert_exporter": "python",
   "pygments_lexer": "ipython2",
   "version": "2.7.11"
  }
 },
 "nbformat": 4,
 "nbformat_minor": 0
}
