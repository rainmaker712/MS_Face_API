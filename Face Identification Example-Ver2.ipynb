{
 "cells": [
  {
   "cell_type": "markdown",
   "metadata": {},
   "source": [
    "# Project Oxford: Face API example"
   ]
  },
  {
   "cell_type": "markdown",
   "metadata": {},
   "source": [
    "### This Jupyter notebook shows you how to get started with the Project Oxford <b>Face API</b> in Python, and how to visualize your results."
   ]
  },
  {
   "cell_type": "markdown",
   "metadata": {},
   "source": [
    "To use this notebook, you will need to get keys to <b>Face API</b>. Visit <a href=\"http://www.projectoxford.ai/face\">www.projectoxford.ai/face</a>, and then the “Try for free” button. On the “Sign in” page, use your Microsoft account to sign in and you will be able to subscribe to Face API and get free keys (Code of Conduct and TOS). After completing the sign-up process, paste your key into the variables section below. (Either the primary or the secondary key works.)\n",
    "\n",
    "https://github.com/Microsoft/CognitiveServices-Documentation/blob/master/Content/en-us/Face/Face-API-How-to-Topics/HowtoIdentifyFacesinImage.md"
   ]
  },
  {
   "cell_type": "code",
   "execution_count": 1,
   "metadata": {
    "collapsed": false
   },
   "outputs": [],
   "source": [
    "import time \n",
    "import requests\n",
    "import cv2\n",
    "import operator\n",
    "import numpy as np\n",
    "from __future__ import print_function\n",
    "\n",
    "import matplotlib.pyplot as plt # Import library to display results\n",
    "%matplotlib inline \n",
    "\n",
    "import httplib, urllib, base64 #General API Usage"
   ]
  },
  {
   "cell_type": "markdown",
   "metadata": {},
   "source": [
    "For Q1, actually, \"Anna\", \"Bill\" and \"Clare\" are three person instead of group. And every person may have more than one faces. So if you need to create the person, just call the Person - Create a Person API to create them, and then call Person – Add a Person Face API to add faces for them. These two APIs are called just like Create Person Group API. \n",
    "\n",
    "For Q2,  for image stored on disk, you need to read the image file to byte array, and pass the array as request body. Remember to set \"Content-Type\" as \"application/octet-stream\" in the request header."
   ]
  },
  {
   "cell_type": "markdown",
   "metadata": {},
   "source": [
    "# Face API Auth. Key"
   ]
  },
  {
   "cell_type": "code",
   "execution_count": 12,
   "metadata": {
    "collapsed": true
   },
   "outputs": [],
   "source": [
    "#FACE KEY group create Variables\n",
    "\n",
    "#_url = 'https://api.projectoxford.ai/face/v1.0/detect'\n",
    "_url = 'https://api.projectoxford.ai/face/v1.0/findsimilars'\n",
    "\n",
    "_key = '0b8afa8909154432bafeed6a3217fcde' #Here you have to paste your primary key\n",
    "_maxNumRetries = 10\n",
    "\n",
    "#group_id = 'hello'"
   ]
  },
  {
   "cell_type": "code",
   "execution_count": 13,
   "metadata": {
    "collapsed": true
   },
   "outputs": [],
   "source": [
    "def processRequest( json, data, headers, params ):\n",
    "\n",
    "    \"\"\"\n",
    "    Helper function to process the request to Project Oxford\n",
    "\n",
    "    Parameters:\n",
    "    json: Used when processing images from its URL. See API Documentation\n",
    "    data: Used when processing image read from disk. See API Documentation\n",
    "    headers: Used to pass the key information and the data type request\n",
    "    \"\"\"\n",
    "\n",
    "    retries = 0\n",
    "    result = None\n",
    "\n",
    "    while True:\n",
    "\n",
    "        response = requests.request( 'post', _url, json = json, data = data, headers = headers, params = params )\n",
    "\n",
    "        if response.status_code == 429: \n",
    "\n",
    "            print( \"Message: %s\" % ( response.json()['error']['message'] ) )\n",
    "\n",
    "            if retries <= _maxNumRetries: \n",
    "                time.sleep(1) \n",
    "                retries += 1\n",
    "                continue\n",
    "            else: \n",
    "                print( 'Error: failed after retrying!' )\n",
    "                break\n",
    "\n",
    "        elif response.status_code == 200 or response.status_code == 201:\n",
    "\n",
    "            if 'content-length' in response.headers and int(response.headers['content-length']) == 0: \n",
    "                result = None \n",
    "            elif 'content-type' in response.headers and isinstance(response.headers['content-type'], str): \n",
    "                if 'application/json' in response.headers['content-type'].lower(): \n",
    "                    result = response.json() if response.content else None \n",
    "                elif 'image' in response.headers['content-type'].lower(): \n",
    "                    result = response.content\n",
    "        else:\n",
    "            print( \"Error code: %d\" % ( response.status_code ) )\n",
    "            print( \"Message: %s\" % ( response.json()['error']['message'] ) )\n",
    "\n",
    "        break\n",
    "        \n",
    "    return result"
   ]
  },
  {
   "cell_type": "code",
   "execution_count": 19,
   "metadata": {
    "collapsed": false
   },
   "outputs": [
    {
     "name": "stdout",
     "output_type": "stream",
     "text": [
      "Error code: 415\n",
      "Message: Invalid Media Type.\n",
      "None\n"
     ]
    }
   ],
   "source": [
    "# Load raw image file into memory\n",
    "pathToFileInDisk = r\"/home/ryan/Pictures/kim/김태희_220.jpg\"\n",
    "#pathToFileInDisk = r'/media/ryan/Windows_D/UBOX_PIC/유성호_9.jpg'\n",
    "with open( pathToFileInDisk, 'rb' ) as f:\n",
    "    data = f.read()\n",
    "\n",
    "# Face detection parameters\n",
    "params = { 'returnFaceAttributes': 'age,gender', \n",
    "           'returnFaceLandmarks': 'true'} \n",
    "\n",
    "headers = dict()\n",
    "headers['Ocp-Apim-Subscription-Key'] = _key\n",
    "headers['Content-Type'] = 'application/octet-stream'\n",
    "\n",
    "json = None\n",
    "\n",
    "result = processRequest( json, data, headers, params )\n",
    "print(result)"
   ]
  },
  {
   "cell_type": "code",
   "execution_count": 16,
   "metadata": {
    "collapsed": false
   },
   "outputs": [
    {
     "name": "stdout",
     "output_type": "stream",
     "text": [
      "Error code: 415\n",
      "Message: Invalid Media Type.\n",
      "None\n"
     ]
    }
   ],
   "source": [
    "# Load raw image file into memory\n",
    "pathToFileInDisk = r'/home/ryan/Pictures/kim/김태희_220.jpg'\n",
    "with open( pathToFileInDisk, 'rb' ) as f:\n",
    "    data = f.read()\n",
    "\n",
    "headers = dict()\n",
    "headers['Ocp-Apim-Subscription-Key'] = _key\n",
    "headers['Content-Type'] = 'application/octet-stream'\n",
    "\n",
    "json = None\n",
    "\n",
    "params = { 'returnFaceAttributes': 'age,gender', \n",
    "           'returnFaceLandmarks': 'true'} \n",
    "\n",
    "\n",
    "result = processRequest( json, data, headers, params )\n",
    "print(result)"
   ]
  },
  {
   "cell_type": "markdown",
   "metadata": {},
   "source": [
    "## 2"
   ]
  },
  {
   "cell_type": "code",
   "execution_count": 36,
   "metadata": {
    "collapsed": false
   },
   "outputs": [
    {
     "name": "stdout",
     "output_type": "stream",
     "text": [
      "{\"name\": \"hello\",\"userData\": \"user_data\"}\n",
      "\n"
     ]
    }
   ],
   "source": [
    "#Person Group - Create a Person Group API\n",
    "\n",
    "params = urllib.urlencode({ 'personGroupId': 'tlstjdwls',\n",
    "                          'subscription-key': _key })\n",
    "\n",
    "body = '{\"name\": \"hello\",\"userData\": \"user_data\"}'\n",
    "print(body)\n",
    "\n",
    "try:\n",
    "    conn = httplib.HTTPSConnection('api.projectoxford.ai')\n",
    "    conn.request(\"PUT\", \"/face/v1.0/persongroups/{personGroupId}?%s\" % params, body, headers)\n",
    "    response = conn.getresponse()\n",
    "    data = response.read()\n",
    "    print(data)\n",
    "    conn.close()\n",
    "except Exception as e:\n",
    "    print(\"[Errno {0}] {1}\".format(e.errno, e.strerror))"
   ]
  },
  {
   "cell_type": "code",
   "execution_count": 38,
   "metadata": {
    "collapsed": false,
    "scrolled": true
   },
   "outputs": [
    {
     "ename": "SyntaxError",
     "evalue": "EOL while scanning string literal (<ipython-input-38-9aad8cb683dd>, line 15)",
     "output_type": "error",
     "traceback": [
      "\u001b[1;36m  File \u001b[1;32m\"<ipython-input-38-9aad8cb683dd>\"\u001b[1;36m, line \u001b[1;32m15\u001b[0m\n\u001b[1;33m    data = \"urlImage = 'https://raw.githubusercontent.com/Microsoft/ProjectOxford-ClientSDK/master/Face/Windows/Data/identification1.jpg'\u001b[0m\n\u001b[1;37m                                                                                                                                        ^\u001b[0m\n\u001b[1;31mSyntaxError\u001b[0m\u001b[1;31m:\u001b[0m EOL while scanning string literal\n"
     ]
    }
   ],
   "source": [
    "#Person - Create Person API\n",
    "\n",
    "params = urllib.urlencode({     'subscription-key': _key,\n",
    "'personGroupId' : 'ryan'\n",
    "})\n",
    "\n",
    "\n",
    "\n",
    "headers = {\n",
    "    # Request headers\n",
    "    'Content-Type': 'application/json',\n",
    "    'Ocp-Apim-Subscription-Key': _key,\n",
    "}\n",
    "\n",
    "data = \"urlImage = 'https://raw.githubusercontent.com/Microsoft/ProjectOxford-ClientSDK/master/Face/Windows/Data/identification1.jpg'\n",
    "\"\n",
    "\n",
    "try:\n",
    "    conn = httplib.HTTPSConnection('api.projectoxford.ai')\n",
    "    conn.request(\"POST\", \"/face/v1.0/persongroups/{personGroupId}/persons?%s\" % params, data, headers)\n",
    "    response = conn.getresponse()\n",
    "    data = response.read()\n",
    "    print(data)\n",
    "    conn.close()\n",
    "except Exception as e:\n",
    "    print(\"[Errno {0}] {1}\".format(e.errno, e.strerror))"
   ]
  },
  {
   "cell_type": "code",
   "execution_count": null,
   "metadata": {
    "collapsed": true
   },
   "outputs": [],
   "source": [
    "#body = '{\"name\": \"myfriend1\",\"userData\": \"user_profivde_data\"}'\n",
    "headers = {\n",
    "    # Request header\n",
    "    'Content-Type': 'application/octet-stream',\n",
    "}\n",
    "\n",
    "pathToFileInDisk = r\"/home/ryan/MS_Vision/Face/Windows/Data/PersonGroup/Family1-Dad/Family1-Dad1.jpg\"\n",
    "bToFileInDisk, 'rb' ) as f:\n",
    "    data = f.read()"
   ]
  },
  {
   "cell_type": "code",
   "execution_count": null,
   "metadata": {
    "collapsed": true
   },
   "outputs": [],
   "source": [
    "pathToFileInDisk = r\"/home/ryan/MS_Vision/Face/Windows/Data/PersonGroup/Family1-Dad/Family1-Dad1.jpg\"\n",
    "bToFileInDisk, 'rb' ) as f:\n",
    "    data = f.read()\n",
    "\n",
    "try:\n",
    "    conn = httplib.HTTPSConnection('api.projectoxford.ai')\n",
    "    conn.request(\"POST\", \"/face/v1.0/persongroups/{personGroupId}/persons?%s\" % params, data, headers)\n",
    "    response = conn.getresponse()\n",
    "    data = response.read()\n",
    "    print(data)\n",
    "    conn.close()\n",
    "except Exception as e:\n",
    "    print(\"[Errno {0}] {1}\".format(e.errno, e.strerror))"
   ]
  },
  {
   "cell_type": "code",
   "execution_count": 21,
   "metadata": {
    "collapsed": true
   },
   "outputs": [],
   "source": [
    "_url = 'https://api.projectoxford.ai/face/v1.0/persongroups'\n",
    "_key = '0b8afa8909154432bafeed6a3217fcde' #Here you have to paste your primary key\n",
    "_maxNumRetries = 10"
   ]
  },
  {
   "cell_type": "code",
   "execution_count": 24,
   "metadata": {
    "collapsed": false
   },
   "outputs": [
    {
     "name": "stdout",
     "output_type": "stream",
     "text": [
      "Error code: 404\n"
     ]
    },
    {
     "ename": "KeyError",
     "evalue": "'error'",
     "output_type": "error",
     "traceback": [
      "\u001b[1;31m---------------------------------------------------------------------------\u001b[0m",
      "\u001b[1;31mKeyError\u001b[0m                                  Traceback (most recent call last)",
      "\u001b[1;32m<ipython-input-24-410b88ee53a9>\u001b[0m in \u001b[0;36m<module>\u001b[1;34m()\u001b[0m\n\u001b[0;32m     14\u001b[0m \u001b[0mjson\u001b[0m \u001b[1;33m=\u001b[0m \u001b[0mNone\u001b[0m\u001b[1;33m\u001b[0m\u001b[0m\n\u001b[0;32m     15\u001b[0m \u001b[1;33m\u001b[0m\u001b[0m\n\u001b[1;32m---> 16\u001b[1;33m \u001b[0mresult\u001b[0m \u001b[1;33m=\u001b[0m \u001b[0mprocessRequest\u001b[0m\u001b[1;33m(\u001b[0m \u001b[0mjson\u001b[0m\u001b[1;33m,\u001b[0m \u001b[0mdata\u001b[0m\u001b[1;33m,\u001b[0m \u001b[0mheaders\u001b[0m\u001b[1;33m,\u001b[0m \u001b[0mparams\u001b[0m \u001b[1;33m)\u001b[0m\u001b[1;33m\u001b[0m\u001b[0m\n\u001b[0m",
      "\u001b[1;32m<ipython-input-22-8f6d260f62b4>\u001b[0m in \u001b[0;36mprocessRequest\u001b[1;34m(json, data, headers, params)\u001b[0m\n\u001b[0;32m     40\u001b[0m         \u001b[1;32melse\u001b[0m\u001b[1;33m:\u001b[0m\u001b[1;33m\u001b[0m\u001b[0m\n\u001b[0;32m     41\u001b[0m             \u001b[1;32mprint\u001b[0m\u001b[1;33m(\u001b[0m \u001b[1;34m\"Error code: %d\"\u001b[0m \u001b[1;33m%\u001b[0m \u001b[1;33m(\u001b[0m \u001b[0mresponse\u001b[0m\u001b[1;33m.\u001b[0m\u001b[0mstatus_code\u001b[0m \u001b[1;33m)\u001b[0m \u001b[1;33m)\u001b[0m\u001b[1;33m\u001b[0m\u001b[0m\n\u001b[1;32m---> 42\u001b[1;33m             \u001b[1;32mprint\u001b[0m\u001b[1;33m(\u001b[0m \u001b[1;34m\"Message: %s\"\u001b[0m \u001b[1;33m%\u001b[0m \u001b[1;33m(\u001b[0m \u001b[0mresponse\u001b[0m\u001b[1;33m.\u001b[0m\u001b[0mjson\u001b[0m\u001b[1;33m(\u001b[0m\u001b[1;33m)\u001b[0m\u001b[1;33m[\u001b[0m\u001b[1;34m'error'\u001b[0m\u001b[1;33m]\u001b[0m\u001b[1;33m[\u001b[0m\u001b[1;34m'message'\u001b[0m\u001b[1;33m]\u001b[0m \u001b[1;33m)\u001b[0m \u001b[1;33m)\u001b[0m\u001b[1;33m\u001b[0m\u001b[0m\n\u001b[0m\u001b[0;32m     43\u001b[0m \u001b[1;33m\u001b[0m\u001b[0m\n\u001b[0;32m     44\u001b[0m         \u001b[1;32mbreak\u001b[0m\u001b[1;33m\u001b[0m\u001b[0m\n",
      "\u001b[1;31mKeyError\u001b[0m: 'error'"
     ]
    }
   ],
   "source": [
    "# Load raw image file into memory\n",
    "pathToFileInDisk = r\"/home/ryan/MS_Vision/Face/Windows/Data/PersonGroup/Family1-Dad/Family1-Dad1.jpg\"\n",
    "#pathToFileInDisk = r'/home/ryan/Downloads/david.jpg'\n",
    "with open( pathToFileInDisk, 'rb' ) as f:\n",
    "    data = f.read()\n",
    "\n",
    "# Face detection parameters\n",
    "params = { 'personGroupID': 'ryan' } \n",
    "\n",
    "headers = dict()\n",
    "headers['Ocp-Apim-Subscription-Key'] = _key\n",
    "headers['Content-Type'] = 'application/octet-stream'\n",
    "\n",
    "json = None\n",
    "\n",
    "result = processRequest( json, data, headers, params )"
   ]
  },
  {
   "cell_type": "code",
   "execution_count": 45,
   "metadata": {
    "collapsed": false
   },
   "outputs": [
    {
     "name": "stdout",
     "output_type": "stream",
     "text": [
      "{\"persistedFaceId\":\"1bbe931c-8ea3-47a1-a776-9112b1d1e19f\"}\n"
     ]
    }
   ],
   "source": [
    "# Person - Add a Person Face\n",
    "\n",
    "params = urllib.urlencode({\n",
    "    # Request parameters\n",
    "    'subscription-key': _key,\n",
    "    'personGroupId': 'myfriend1',\n",
    "    'personId': \"f50119eb-5a61-479f-9c57-d2af4eb99c48\"\n",
    "    #'userData': '{}',\n",
    "    #'targetFace': '{string}',\n",
    "})\n",
    "\n",
    "headers = {\n",
    "    # Request header\n",
    "    'Content-Type': 'application/octet-stream',\n",
    "}\n",
    "\n",
    "#bodys = \"\"\n",
    "\n",
    "filename = \"/home/ryan/MS_Vision/Face/Windows/Data/PersonGroup/Family1-Dad/Family1-Dad2.jpg\"\n",
    "\n",
    "f = open(filename, 'rb')\n",
    "\n",
    "body = f.read()\n",
    "\n",
    "try:\n",
    "    conn = httplib.HTTPSConnection('api.projectoxford.ai')\n",
    "    conn.request(\"POST\", \"/face/v1.0/persongroups/{personGroupId}/persons/{personId}/persistedFaces?%s\" % params, body, headers)\n",
    "    response = conn.getresponse()\n",
    "    data = response.read()\n",
    "    print(data)\n",
    "    conn.close()\n",
    "except Exception as e:\n",
    "    print(\"[Errno {0}] {1}\".format(e.errno, e.strerror))\n",
    "    \n",
    "\n",
    "    \n",
    "#{\"persistedFaceId\":\"dfdb1cdf-d3fb-4f38-b7eb-fe4cf255feac\"}#\n",
    "#{\"persistedFaceId\":\"651215c6-333e-46a8-993c-b5a000abc86d\"}\n",
    "#{\"persistedFaceId\":\"a7f7ecc7-836d-4b25-ac44-bc909e939c98\"}"
   ]
  },
  {
   "cell_type": "code",
   "execution_count": null,
   "metadata": {
    "collapsed": true
   },
   "outputs": [],
   "source": []
  },
  {
   "cell_type": "code",
   "execution_count": null,
   "metadata": {
    "collapsed": true
   },
   "outputs": [],
   "source": [
    "# Person - Delete a Person Face\n",
    "\n",
    "params = urllib.urlencode({\n",
    "})\n",
    "\n",
    "\n",
    "\n",
    "try:\n",
    "    conn = httplib.HTTPSConnection('api.projectoxford.ai')\n",
    "    conn.request(\"DELETE\", \"/face/v1.0/persongroups/{personGroupId}/persons/{personId}/persistedFaces/{persistedFaceId}?%s\" % params, \"{body}\", headers2)\n",
    "    response = conn.getresponse()\n",
    "    data = response.read()\n",
    "    print(data)\n",
    "    conn.close()\n",
    "except Exception as e:\n",
    "    print(\"[Errno {0}] {1}\".format(e.errno, e.strerror))\n"
   ]
  },
  {
   "cell_type": "markdown",
   "metadata": {},
   "source": [
    "### 3"
   ]
  },
  {
   "cell_type": "code",
   "execution_count": 11,
   "metadata": {
    "collapsed": false
   },
   "outputs": [
    {
     "name": "stdout",
     "output_type": "stream",
     "text": [
      "{\"error\":{\"code\":\"PersonGroupNotFound\",\"message\":\"Person group 'hello' is not found.\\r\\nParameter name: personGroupId\"}}\n"
     ]
    }
   ],
   "source": [
    "#Person Group – Train Person Group API.\n",
    "\n",
    "params = urllib.urlencode({ 'personGroupId': 'hello'\n",
    "})\n",
    "\n",
    "try:\n",
    "    conn = httplib.HTTPSConnection('api.projectoxford.ai')\n",
    "    conn.request(\"POST\", \"/face/v1.0/persongroups/{personGroupId}/train?%s\" % params, \"{body}\", headers2)\n",
    "    response = conn.getresponse()\n",
    "    data = response.read()\n",
    "    print(data)\n",
    "    conn.close()\n",
    "except Exception as e:\n",
    "    print(\"[Errno {0}] {1}\".format(e.errno, e.strerror))"
   ]
  },
  {
   "cell_type": "code",
   "execution_count": null,
   "metadata": {
    "collapsed": true
   },
   "outputs": [],
   "source": [
    "#Person Group - Get Person Group Training Status\n",
    "\n",
    "params = urllib.urlencode({\n",
    "})\n",
    "\n",
    "try:\n",
    "    conn = httplib.HTTPSConnection('api.projectoxford.ai')\n",
    "    conn.request(\"GET\", \"/face/v1.0/persongroups/{personGroupId}/training?%s\" % params, \"{body}\", headers2)\n",
    "    response = conn.getresponse()\n",
    "    data = response.read()\n",
    "    print(data)\n",
    "    conn.close()\n",
    "except Exception as e:\n",
    "    print(\"[Errno {0}] {1}\".format(e.errno, e.strerror))"
   ]
  },
  {
   "cell_type": "markdown",
   "metadata": {},
   "source": [
    "#### 4"
   ]
  },
  {
   "cell_type": "code",
   "execution_count": null,
   "metadata": {
    "collapsed": true
   },
   "outputs": [],
   "source": [
    "# Face Identity\n",
    "\n",
    "params = urllib.urlencode({\n",
    "})\n",
    "\n",
    "try:\n",
    "    conn = httplib.HTTPSConnection('api.projectoxford.ai')\n",
    "    conn.request(\"POST\", \"/face/v1.0/identify?%s\" % params, \"{body}\", headers)\n",
    "    response = conn.getresponse()\n",
    "    data = response.read()\n",
    "    print(data)\n",
    "    conn.close()\n",
    "except Exception as e:\n",
    "    print(\"[Errno {0}] {1}\".format(e.errno, e.strerror))"
   ]
  },
  {
   "cell_type": "code",
   "execution_count": 22,
   "metadata": {
    "collapsed": false
   },
   "outputs": [
    {
     "name": "stdout",
     "output_type": "stream",
     "text": [
      "[{\"faceId\":\"f6645d9d-d65d-4389-8da4-1adc7e141296\",\"faceRectangle\":{\"top\":58,\"left\":13,\"width\":149,\"height\":149}}]\n"
     ]
    }
   ],
   "source": [
    "# Face - Detect API (Local file load)\n",
    "\n",
    "params = urllib.urlencode({\n",
    "    # Request parameters\n",
    "        \n",
    "    'subscription-key': _key,\n",
    "       \n",
    "    'analyzesFaceLandmarks': 'true',\n",
    "\n",
    "    'analyzesAge': 'true',\n",
    "\n",
    "    'analyzesGender': 'true',\n",
    "\n",
    "    'analyzesHeadPose': 'true',\n",
    "})\n",
    "\n",
    "headers = {\n",
    "    # Request header\n",
    "    'Content-Type': 'application/octet-stream',\n",
    "}\n",
    "\n",
    "body = \"\"\n",
    "\n",
    "filename = \"/home/ryan/MS_Vision/Face/Windows/Data/PersonGroup/Family1-Dad/Family1-Dad1.jpg\"\n",
    "\n",
    "f = open(filename, 'rb')\n",
    "\n",
    "body = f.read()\n",
    "\n",
    "try:\n",
    "    conn = httplib.HTTPSConnection('api.projectoxford.ai')\n",
    "    conn.request(\"POST\", \"/face/v1.0/detect?%s\" % params, body, headers)\n",
    "    response = conn.getresponse()\n",
    "    data = response.read()\n",
    "    print(data)\n",
    "    conn.close()\n",
    "except Exception as e:\n",
    "    print(\"[Errno {0}] {1}\".format(e.errno, e.strerror))"
   ]
  },
  {
   "cell_type": "code",
   "execution_count": null,
   "metadata": {
    "collapsed": true
   },
   "outputs": [],
   "source": [
    "import os,http, http.client, urllib.request, urllib.parse, urllib.error, base64,json\n",
    "\n",
    "headers = {\n",
    "   # Basic Authorization Sample\n",
    "   # 'Authorization': 'Basic %s' % base64.encodestring('{username}:{password}'),\n",
    "   'Content-type': 'application/json',\n",
    "}\n",
    "\n",
    "params = urllib.parse.urlencode({\n",
    "   # Specify your subscription key\n",
    "   'subscription-key': '***',\n",
    "   })\n",
    "body={'faceIds':['1c20555f-14af-4b14-8c0e-e2d85bfec6ab','64d70ce8-2faa-412c-a38a-ef6bba13019d','9b6b536b-dd63-4847-b473-c6dc0d885d91','2200ac63-82d5-4942-bdc2-99e628c8d599']}\n",
    "jdata = json.dumps(body)\n",
    "try:\n",
    "   conn = http.client.HTTPSConnection('api.projectoxford.ai')\n",
    "   conn.request(\"POST\", \"/face/v0/groupings?%s\" % params,jdata, headers)\n",
    "   print(\"send request\")\n",
    "   response = conn.getresponse()\n",
    "   data = response.read()\n",
    "   print(data)\n",
    "   conn.close()\n",
    "except Exception as e:\n",
    "   print(\"[Errno {0}] {1}\".format(e.errno, e.strerror))"
   ]
  },
  {
   "cell_type": "code",
   "execution_count": null,
   "metadata": {
    "collapsed": true
   },
   "outputs": [],
   "source": [
    "params = urllib.urlencode({\n",
    "    'subscription-key': \"****\",\n",
    "\n",
    "    'analyzesFaceLandmarks': 'true',\n",
    "\n",
    "    'analyzesAge': 'true',\n",
    "\n",
    "    'analyzesGender': 'true',\n",
    "\n",
    "    'analyzesHeadPose': 'true',\n",
    "\n",
    "}) \n",
    "\n",
    "    #specify image from file\n",
    "\n",
    "    #For a local image, Content-Type should be application/octet-stream or multipart/form-data AND JSON SHOULD BE EMPTY\n",
    "\n",
    "    headers = {\n",
    "\n",
    "        'Content-type': 'application/octet-stream',\n",
    "\n",
    "    }\n",
    "\n",
    "    body = \"\" \n",
    "\n",
    "    #load image\n",
    "\n",
    "    filename = 'C:/testPicutre.JPG'\n",
    "\n",
    "    f = open(filename, \"rb\")\n",
    "\n",
    "    body = f.read()\n",
    "\n",
    "    f.close()\n",
    "\n",
    "    conn = httplib.HTTPSConnection('api.projectoxford.ai')\n",
    "\n",
    "    conn.request(\"POST\", \"/face/v0/detections?%s\" % params, body, headers)\n",
    "\n",
    "    response = conn.getresponse(\"\")\n",
    "\n",
    "    data = response.read()\n",
    "\n",
    "    print(data)\n",
    "\n",
    "    conn.close()"
   ]
  },
  {
   "cell_type": "code",
   "execution_count": null,
   "metadata": {
    "collapsed": true
   },
   "outputs": [],
   "source": []
  }
 ],
 "metadata": {
  "kernelspec": {
   "display_name": "Python 2",
   "language": "python",
   "name": "python2"
  },
  "language_info": {
   "codemirror_mode": {
    "name": "ipython",
    "version": 2
   },
   "file_extension": ".py",
   "mimetype": "text/x-python",
   "name": "python",
   "nbconvert_exporter": "python",
   "pygments_lexer": "ipython2",
   "version": "2.7.11"
  }
 },
 "nbformat": 4,
 "nbformat_minor": 0
}
