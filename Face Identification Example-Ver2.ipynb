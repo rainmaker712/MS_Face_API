{
 "cells": [
  {
   "cell_type": "markdown",
   "metadata": {},
   "source": [
    "# Project Oxford: Face API example"
   ]
  },
  {
   "cell_type": "markdown",
   "metadata": {},
   "source": [
    "### This Jupyter notebook shows you how to get started with the Project Oxford <b>Face API</b> in Python, and how to visualize your results."
   ]
  },
  {
   "cell_type": "markdown",
   "metadata": {},
   "source": [
    "To use this notebook, you will need to get keys to <b>Face API</b>. Visit <a href=\"http://www.projectoxford.ai/face\">www.projectoxford.ai/face</a>, and then the “Try for free” button. On the “Sign in” page, use your Microsoft account to sign in and you will be able to subscribe to Face API and get free keys (Code of Conduct and TOS). After completing the sign-up process, paste your key into the variables section below. (Either the primary or the secondary key works.)\n",
    "\n",
    "https://github.com/Microsoft/CognitiveServices-Documentation/blob/master/Content/en-us/Face/Face-API-How-to-Topics/HowtoIdentifyFacesinImage.md"
   ]
  },
  {
   "cell_type": "code",
   "execution_count": 1,
   "metadata": {
    "collapsed": false
   },
   "outputs": [],
   "source": [
    "import time \n",
    "import requests\n",
    "import cv2\n",
    "import operator\n",
    "import numpy as np\n",
    "from __future__ import print_function\n",
    "\n",
    "import matplotlib.pyplot as plt # Import library to display results\n",
    "%matplotlib inline \n",
    "\n",
    "import httplib, urllib, base64 #General API Usage"
   ]
  },
  {
   "cell_type": "markdown",
   "metadata": {},
   "source": [
    "# Face API Auth. Key"
   ]
  },
  {
   "cell_type": "code",
   "execution_count": 3,
   "metadata": {
    "collapsed": true
   },
   "outputs": [],
   "source": [
    "#FACE KEY group create Variables\n",
    "\n",
    "_url = 'https://api.projectoxford.ai/face/v1.0/detect'\n",
    "_key = '0b8afa8909154432bafeed6a3217fcde' #Here you have to paste your primary key\n",
    "_maxNumRetries = 10\n",
    "\n",
    "######################\n",
    "headers = {\n",
    "    # Request header\n",
    "    'Content-Type': 'application/json',\n",
    "    'Ocp-Apim-Subscription-Key': _key\n",
    "}\n",
    "\n",
    "headers2 = {\n",
    "    # Request headers\n",
    "    'Ocp-Apim-Subscription-Key': _key,\n",
    "}\n",
    "\n",
    "###############3\n",
    "\n",
    "group_id = 'myfriend1'"
   ]
  },
  {
   "cell_type": "markdown",
   "metadata": {},
   "source": [
    "## 2"
   ]
  },
  {
   "cell_type": "code",
   "execution_count": 4,
   "metadata": {
    "collapsed": false
   },
   "outputs": [
    {
     "name": "stdout",
     "output_type": "stream",
     "text": [
      "{\"name\": \"myfriend1\",\"userData\": \"user_profivde_data\"}\n",
      "\n"
     ]
    }
   ],
   "source": [
    "#Person Group - Create a Person Group API\n",
    "\n",
    "params = urllib.urlencode({ 'personGroupId': group_id})\n",
    "\n",
    "body = '{\"name\": \"myfriend1\",\"userData\": \"user_profivde_data\"}'\n",
    "print(body)\n",
    "\n",
    "try:\n",
    "    conn = httplib.HTTPSConnection('api.projectoxford.ai')\n",
    "    conn.request(\"PUT\", \"/face/v1.0/persongroups/{personGroupId}?%s\" % params, body, headers)\n",
    "    response = conn.getresponse()\n",
    "    data = response.read()\n",
    "    print(data)\n",
    "    conn.close()\n",
    "except Exception as e:\n",
    "    print(\"[Errno {0}] {1}\".format(e.errno, e.strerror))"
   ]
  },
  {
   "cell_type": "code",
   "execution_count": 10,
   "metadata": {
    "collapsed": false
   },
   "outputs": [
    {
     "name": "stdout",
     "output_type": "stream",
     "text": [
      "{\"personId\":\"f50119eb-5a61-479f-9c57-d2af4eb99c48\"}\n"
     ]
    }
   ],
   "source": [
    "#Person - Create Person API\n",
    "\n",
    "params = urllib.urlencode({     'subscription-key': _key,\n",
    "'personGroupId' : 'hello'\n",
    "})\n",
    "\n",
    "#body = '{\"name\": \"myfriend1\",\"userData\": \"user_profivde_data\"}'\n",
    "headers = {\n",
    "    # Request header\n",
    "    'Content-Type': 'application/octet-stream',\n",
    "}\n",
    "\n",
    "body = \"\"\n",
    "\n",
    "filename = \"/home/ryan/MS_Vision/Face/Windows/Data/PersonGroup/Family1-Dad/Family1-Dad3.jpg\"\n",
    "\n",
    "f = open(filename, 'rb')\n",
    "\n",
    "body = f.read()\n",
    "\n",
    "\n",
    "\n",
    "try:\n",
    "    conn = httplib.HTTPSConnection('api.projectoxford.ai')\n",
    "    conn.request(\"POST\", \"/face/v1.0/persongroups/{personGroupId}/persons?%s\" % params, body, headers)\n",
    "    response = conn.getresponse()\n",
    "    data = response.read()\n",
    "    print(data)\n",
    "    conn.close()\n",
    "except Exception as e:\n",
    "    print(\"[Errno {0}] {1}\".format(e.errno, e.strerror))"
   ]
  },
  {
   "cell_type": "code",
   "execution_count": 26,
   "metadata": {
    "collapsed": false
   },
   "outputs": [
    {
     "name": "stdout",
     "output_type": "stream",
     "text": [
      "{\"persistedFaceId\":\"e81bf6bf-f3e3-434b-95f0-04293a27d6fa\"}\n"
     ]
    }
   ],
   "source": [
    "# Person - Add a Person Face\n",
    "\n",
    "params = urllib.urlencode({\n",
    "    # Request parameters\n",
    "    'subscription-key': _key,\n",
    "    'personGroupId': 'myfriend1',\n",
    "    'personId': \"f50119eb-5a61-479f-9c57-d2af4eb99c48\"\n",
    "    #'userData': '{}',\n",
    "    #'targetFace': '{string}',\n",
    "})\n",
    "\n",
    "headers = {\n",
    "    # Request header\n",
    "    'Content-Type': 'application/octet-stream',\n",
    "}\n",
    "\n",
    "body = \"\"\n",
    "\n",
    "filename = \"/home/ryan/MS_Vision/Face/Windows/Data/PersonGroup/Family1-Dad/Family1-Dad3.jpg\"\n",
    "\n",
    "f = open(filename, 'rb')\n",
    "\n",
    "body = f.read()\n",
    "\n",
    "try:\n",
    "    conn = httplib.HTTPSConnection('api.projectoxford.ai')\n",
    "    conn.request(\"POST\", \"/face/v1.0/persongroups/{personGroupId}/persons/{personId}/persistedFaces?%s\" % params, body, headers)\n",
    "    response = conn.getresponse()\n",
    "    data = response.read()\n",
    "    print(data)\n",
    "    conn.close()\n",
    "except Exception as e:\n",
    "    print(\"[Errno {0}] {1}\".format(e.errno, e.strerror))\n",
    "    \n",
    "#1: {\"persistedFaceId\":\"0b567fe9-6fa6-48e6-9f3f-d09fc447e4a2\"}\n",
    "#2: {\"persistedFaceId\":\"4e4ad592-f1e4-4639-8ca3-60004020aa1e\"}\n",
    "#3 {\"persistedFaceId\":\"e81bf6bf-f3e3-434b-95f0-04293a27d6fa\"}\n"
   ]
  },
  {
   "cell_type": "code",
   "execution_count": null,
   "metadata": {
    "collapsed": true
   },
   "outputs": [],
   "source": []
  },
  {
   "cell_type": "code",
   "execution_count": null,
   "metadata": {
    "collapsed": true
   },
   "outputs": [],
   "source": [
    "# Person - Delete a Person Face\n",
    "\n",
    "params = urllib.urlencode({\n",
    "})\n",
    "\n",
    "try:\n",
    "    conn = httplib.HTTPSConnection('api.projectoxford.ai')\n",
    "    conn.request(\"DELETE\", \"/face/v1.0/persongroups/{personGroupId}/persons/{personId}/persistedFaces/{persistedFaceId}?%s\" % params, \"{body}\", headers2)\n",
    "    response = conn.getresponse()\n",
    "    data = response.read()\n",
    "    print(data)\n",
    "    conn.close()\n",
    "except Exception as e:\n",
    "    print(\"[Errno {0}] {1}\".format(e.errno, e.strerror))\n"
   ]
  },
  {
   "cell_type": "markdown",
   "metadata": {},
   "source": [
    "### 3"
   ]
  },
  {
   "cell_type": "code",
   "execution_count": null,
   "metadata": {
    "collapsed": true
   },
   "outputs": [],
   "source": [
    "#Person Group – Train Person Group API.\n",
    "\n",
    "params = urllib.urlencode({\n",
    "})\n",
    "\n",
    "try:\n",
    "    conn = httplib.HTTPSConnection('api.projectoxford.ai')\n",
    "    conn.request(\"POST\", \"/face/v1.0/persongroups/{personGroupId}/train?%s\" % params, \"{body}\", headers2)\n",
    "    response = conn.getresponse()\n",
    "    data = response.read()\n",
    "    print(data)\n",
    "    conn.close()\n",
    "except Exception as e:\n",
    "    print(\"[Errno {0}] {1}\".format(e.errno, e.strerror))"
   ]
  },
  {
   "cell_type": "code",
   "execution_count": null,
   "metadata": {
    "collapsed": true
   },
   "outputs": [],
   "source": [
    "#Person Group - Get Person Group Training Status\n",
    "\n",
    "params = urllib.urlencode({\n",
    "})\n",
    "\n",
    "try:\n",
    "    conn = httplib.HTTPSConnection('api.projectoxford.ai')\n",
    "    conn.request(\"GET\", \"/face/v1.0/persongroups/{personGroupId}/training?%s\" % params, \"{body}\", headers2)\n",
    "    response = conn.getresponse()\n",
    "    data = response.read()\n",
    "    print(data)\n",
    "    conn.close()\n",
    "except Exception as e:\n",
    "    print(\"[Errno {0}] {1}\".format(e.errno, e.strerror))"
   ]
  },
  {
   "cell_type": "markdown",
   "metadata": {},
   "source": [
    "#### 4"
   ]
  },
  {
   "cell_type": "code",
   "execution_count": null,
   "metadata": {
    "collapsed": true
   },
   "outputs": [],
   "source": [
    "# Face Identity\n",
    "\n",
    "params = urllib.urlencode({\n",
    "})\n",
    "\n",
    "try:\n",
    "    conn = httplib.HTTPSConnection('api.projectoxford.ai')\n",
    "    conn.request(\"POST\", \"/face/v1.0/identify?%s\" % params, \"{body}\", headers)\n",
    "    response = conn.getresponse()\n",
    "    data = response.read()\n",
    "    print(data)\n",
    "    conn.close()\n",
    "except Exception as e:\n",
    "    print(\"[Errno {0}] {1}\".format(e.errno, e.strerror))"
   ]
  },
  {
   "cell_type": "code",
   "execution_count": 22,
   "metadata": {
    "collapsed": false
   },
   "outputs": [
    {
     "name": "stdout",
     "output_type": "stream",
     "text": [
      "[{\"faceId\":\"f6645d9d-d65d-4389-8da4-1adc7e141296\",\"faceRectangle\":{\"top\":58,\"left\":13,\"width\":149,\"height\":149}}]\n"
     ]
    }
   ],
   "source": [
    "# Face - Detect API (Local file load)\n",
    "\n",
    "params = urllib.urlencode({\n",
    "    # Request parameters\n",
    "        \n",
    "    'subscription-key': _key,\n",
    "       \n",
    "    'analyzesFaceLandmarks': 'true',\n",
    "\n",
    "    'analyzesAge': 'true',\n",
    "\n",
    "    'analyzesGender': 'true',\n",
    "\n",
    "    'analyzesHeadPose': 'true',\n",
    "})\n",
    "\n",
    "headers = {\n",
    "    # Request header\n",
    "    'Content-Type': 'application/octet-stream',\n",
    "}\n",
    "\n",
    "body = \"\"\n",
    "\n",
    "filename = \"/home/ryan/MS_Vision/Face/Windows/Data/PersonGroup/Family1-Dad/Family1-Dad1.jpg\"\n",
    "\n",
    "f = open(filename, 'rb')\n",
    "\n",
    "body = f.read()\n",
    "\n",
    "try:\n",
    "    conn = httplib.HTTPSConnection('api.projectoxford.ai')\n",
    "    conn.request(\"POST\", \"/face/v1.0/detect?%s\" % params, body, headers)\n",
    "    response = conn.getresponse()\n",
    "    data = response.read()\n",
    "    print(data)\n",
    "    conn.close()\n",
    "except Exception as e:\n",
    "    print(\"[Errno {0}] {1}\".format(e.errno, e.strerror))"
   ]
  }
 ],
 "metadata": {
  "kernelspec": {
   "display_name": "Python 2",
   "language": "python",
   "name": "python2"
  },
  "language_info": {
   "codemirror_mode": {
    "name": "ipython",
    "version": 2
   },
   "file_extension": ".py",
   "mimetype": "text/x-python",
   "name": "python",
   "nbconvert_exporter": "python",
   "pygments_lexer": "ipython2",
   "version": "2.7.11"
  }
 },
 "nbformat": 4,
 "nbformat_minor": 0
}
