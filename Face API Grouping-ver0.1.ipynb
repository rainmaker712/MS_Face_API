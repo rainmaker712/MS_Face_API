{
 "cells": [
  {
   "cell_type": "markdown",
   "metadata": {},
   "source": [
    "# Project Oxford: Face API\n"
   ]
  },
  {
   "cell_type": "code",
   "execution_count": 2,
   "metadata": {
    "collapsed": false
   },
   "outputs": [],
   "source": [
    "import time \n",
    "import requests\n",
    "import cv2\n",
    "import operator\n",
    "import numpy as np\n",
    "from __future__ import print_function\n",
    "\n",
    "# Import library to display results\n",
    "import matplotlib.pyplot as plt\n",
    "%matplotlib inline \n",
    "# Display images within Jupyter\n",
    "import httplib, urllib, base64 #General API Usage"
   ]
  },
  {
   "cell_type": "code",
   "execution_count": 3,
   "metadata": {
    "collapsed": false
   },
   "outputs": [],
   "source": [
    "# Variables\n",
    "\n",
    "_url_detect = 'https://api.projectoxford.ai/face/v1.0/detect'\n",
    "_url_verify = 'https://api.projectoxford.ai/face/v1.0/verify'\n",
    "_url_group = 'https://api.projectoxford.ai/face/v1.0/group'\n",
    "_key = '0b8afa8909154432bafeed6a3217fcde' #Here you have to paste your primary key\n",
    "_maxNumRetries = 10"
   ]
  },
  {
   "cell_type": "markdown",
   "metadata": {},
   "source": [
    "## 1. Face Detection (To get faceId)"
   ]
  },
  {
   "cell_type": "code",
   "execution_count": 4,
   "metadata": {
    "collapsed": true
   },
   "outputs": [],
   "source": [
    "def detectionRequest( json, data, headers, params ):\n",
    "\n",
    "    \"\"\"\n",
    "    Helper function to process the request to Project Oxford\n",
    "\n",
    "    Parameters:\n",
    "    json: Used when processing images from its URL. See API Documentation\n",
    "    data: Used when processing image read from disk. See API Documentation\n",
    "    headers: Used to pass the key information and the data type request\n",
    "    \"\"\"\n",
    "\n",
    "    retries = 0\n",
    "    result = None\n",
    "\n",
    "    while True:\n",
    "\n",
    "        response = requests.request( 'post', _url_detect, json = json, data = data, headers = headers, params = params )\n",
    "\n",
    "        if response.status_code == 429: \n",
    "\n",
    "            print( \"Message: %s\" % ( response.json()['error']['message'] ) )\n",
    "\n",
    "            if retries <= _maxNumRetries: \n",
    "                time.sleep(1) \n",
    "                retries += 1\n",
    "                continue\n",
    "            else: \n",
    "                print( 'Error: failed after retrying!' )\n",
    "                break\n",
    "\n",
    "        elif response.status_code == 200 or response.status_code == 201:\n",
    "\n",
    "            if 'content-length' in response.headers and int(response.headers['content-length']) == 0: \n",
    "                result = None \n",
    "            elif 'content-type' in response.headers and isinstance(response.headers['content-type'], str): \n",
    "                if 'application/json' in response.headers['content-type'].lower(): \n",
    "                    result = response.json() if response.content else None \n",
    "                elif 'image' in response.headers['content-type'].lower(): \n",
    "                    result = response.content\n",
    "        else:\n",
    "            print( \"Error code: %d\" % ( response.status_code ) )\n",
    "            print( \"Message: %s\" % ( response.json()['error']['message'] ) )\n",
    "\n",
    "        break\n",
    "        \n",
    "    return result"
   ]
  },
  {
   "cell_type": "code",
   "execution_count": 5,
   "metadata": {
    "collapsed": true
   },
   "outputs": [],
   "source": [
    "def renderResultOnImage( result, img ):\n",
    "    \n",
    "    \"\"\"Display the obtained results onto the input image\"\"\"\n",
    "\n",
    "    for currFace in result:\n",
    "        faceRectangle = currFace['faceRectangle']\n",
    "        cv2.rectangle( img,(faceRectangle['left'],faceRectangle['top']),\n",
    "                           (faceRectangle['left']+faceRectangle['width'], faceRectangle['top'] + faceRectangle['height']),\n",
    "                       color = (255,0,0), thickness = 1 )\n",
    "\n",
    "        faceLandmarks = currFace['faceLandmarks']\n",
    "\n",
    "        for _, currLandmark in faceLandmarks.items():\n",
    "            cv2.circle( img, (int(currLandmark['x']),int(currLandmark['y'])), color = (0,255,0), thickness= -1, radius = 1 )\n",
    "\n",
    "    for currFace in result:\n",
    "        faceRectangle = currFace['faceRectangle']\n",
    "        faceAttributes = currFace['faceAttributes']\n",
    "\n",
    "        textToWrite = \"%c (%d)\" % ( 'M' if faceAttributes['gender']=='male' else 'F', faceAttributes['age'] )\n",
    "        cv2.putText( img, textToWrite, (faceRectangle['left'],faceRectangle['top']-15), cv2.FONT_HERSHEY_SIMPLEX, 0.5, (255,255,255), 1 )"
   ]
  },
  {
   "cell_type": "markdown",
   "metadata": {},
   "source": [
    "##   Face detection"
   ]
  },
  {
   "cell_type": "markdown",
   "metadata": {},
   "source": [
    "폴더 내에 있는 페이스 아이디 저장하기: test_faceId"
   ]
  },
  {
   "cell_type": "code",
   "execution_count": 6,
   "metadata": {
    "collapsed": false
   },
   "outputs": [
    {
     "data": {
      "text/plain": [
       "1132"
      ]
     },
     "execution_count": 6,
     "metadata": {},
     "output_type": "execute_result"
    }
   ],
   "source": [
    "import os\n",
    "\n",
    "# Face detection parameters\n",
    "params = { 'returnFaceAttributes': 'age,gender', \n",
    "           'returnFaceLandmarks': 'true'} \n",
    "\n",
    "headers = dict()\n",
    "headers['Ocp-Apim-Subscription-Key'] = _key\n",
    "headers['Content-Type'] = 'application/octet-stream'\n",
    "\n",
    "json = None\n",
    "\n",
    "#cur_dir = '/Users/robot/git_ryan/MS_Face_API/image/Test_shin/'\n",
    "cur_dir = '/Users/robot/Downloads/test_image/'\n",
    "test_file = os.listdir(cur_dir)\n",
    "len(test_file)"
   ]
  },
  {
   "cell_type": "code",
   "execution_count": null,
   "metadata": {
    "collapsed": false
   },
   "outputs": [
    {
     "name": "stdout",
     "output_type": "stream",
     "text": [
      "Error code: 400\n",
      "Message: Decoding error, image format unsupported.\n",
      "fail filename: /Users/robot/Downloads/test_image/.DS_Store\n",
      "success\n",
      "Error code: 400\n",
      "Message: Image size is too small or too big.\n",
      "fail filename: /Users/robot/Downloads/test_image/20150918_185115.jpg\n",
      "success\n",
      "Error code: 400\n",
      "Message: Image size is too small or too big.\n",
      "fail filename: /Users/robot/Downloads/test_image/20160415_105306.jpg\n",
      "Error code: 400\n",
      "Message: Image size is too small or too big.\n",
      "fail filename: /Users/robot/Downloads/test_image/20160415_105316.jpg\n",
      "Error code: 400\n",
      "Message: Image size is too small or too big.\n",
      "fail filename: /Users/robot/Downloads/test_image/20160415_105351.jpg\n",
      "Error code: 400\n",
      "Message: Image size is too small or too big.\n",
      "fail filename: /Users/robot/Downloads/test_image/20160415_105359.jpg\n",
      "Error code: 400\n",
      "Message: Image size is too small or too big.\n",
      "fail filename: /Users/robot/Downloads/test_image/20160415_110416.jpg\n",
      "Error code: 400\n",
      "Message: Image size is too small or too big.\n",
      "fail filename: /Users/robot/Downloads/test_image/20160415_110420.jpg\n",
      "Error code: 400\n",
      "Message: Image size is too small or too big.\n",
      "fail filename: /Users/robot/Downloads/test_image/20160415_110425.jpg\n",
      "success\n",
      "success\n",
      "success\n",
      "Error code: 400\n",
      "Message: Image size is too small or too big.\n",
      "fail filename: /Users/robot/Downloads/test_image/DSC02551.JPG\n",
      "Error code: 400\n",
      "Message: Image size is too small or too big.\n",
      "fail filename: /Users/robot/Downloads/test_image/DSC02658.JPG\n",
      "Error code: 400\n",
      "Message: Image size is too small or too big.\n",
      "fail filename: /Users/robot/Downloads/test_image/DSC02659.JPG\n",
      "fail filename: /Users/robot/Downloads/test_image/IMG_0328.jpg\n",
      "success\n",
      "fail filename: /Users/robot/Downloads/test_image/IMG_0421.jpg\n",
      "Message: Rate limit is exceeded. Try again later.\n",
      "Message: Rate limit is exceeded. Try again later.\n",
      "Message: Rate limit is exceeded. Try again later.\n",
      "Message: Rate limit is exceeded. Try again later.\n",
      "fail filename: /Users/robot/Downloads/test_image/IMG_0498.jpg\n",
      "Message: Rate limit is exceeded. Try again later.\n",
      "Message: Rate limit is exceeded. Try again later.\n",
      "Message: Rate limit is exceeded. Try again later.\n",
      "Message: Rate limit is exceeded. Try again later.\n",
      "Message: Rate limit is exceeded. Try again later.\n",
      "Message: Rate limit is exceeded. Try again later.\n",
      "Message: Rate limit is exceeded. Try again later.\n",
      "Message: Rate limit is exceeded. Try again later.\n",
      "fail filename: /Users/robot/Downloads/test_image/IMG_0506.jpg\n",
      "Message: Rate limit is exceeded. Try again later.\n",
      "fail filename: /Users/robot/Downloads/test_image/IMG_0690.jpg\n",
      "Message: Rate limit is exceeded. Try again later.\n",
      "Message: Rate limit is exceeded. Try again later.\n",
      "Message: Rate limit is exceeded. Try again later.\n",
      "Message: Rate limit is exceeded. Try again later.\n",
      "Message: Rate limit is exceeded. Try again later.\n",
      "success\n"
     ]
    }
   ],
   "source": [
    "test_faceId = [] #face id info\n",
    "file_name = [] #directory file name\n",
    "#data_name = [] #data directory\n",
    "\n",
    "for i in xrange(0, len(test_file)):\n",
    "    file_name.append(cur_dir + test_file[i])\n",
    "    \n",
    "    with open (file_name[i], 'rb') as f:\n",
    "        data = f.read()\n",
    "        #data_name.append(data)\n",
    "\n",
    "    try:\n",
    "        result = detectionRequest( json, data, headers, params )\n",
    "        test_faceId.append( result[0]['faceId'])\n",
    "        time.sleep(1)\n",
    "        print(\"success\")\n",
    "    except:\n",
    "        print(\"fail filename: %s\" %file_name[i])"
   ]
  },
  {
   "cell_type": "code",
   "execution_count": null,
   "metadata": {
    "collapsed": true
   },
   "outputs": [],
   "source": [
    "test_faceId"
   ]
  },
  {
   "cell_type": "code",
   "execution_count": null,
   "metadata": {
    "collapsed": true
   },
   "outputs": [],
   "source": [
    "#Pickling\n",
    "import pickle\n",
    "\n",
    " \n",
    "\n",
    "man = []\n",
    "\n",
    "other = []\n",
    "\n",
    " \n",
    "\n",
    "try:\n",
    "\n",
    "data = open('sketch.txt')\n",
    "\n",
    " \n",
    "\n",
    "for each_line in data:\n",
    "\n",
    "try:\n",
    "\n",
    "(role, line_spoken) = each_line.split(':')\n",
    "\n",
    "line_spoken = line_spoken.strip()\n",
    "\n",
    "if role == 'Man':\n",
    "\n",
    "man.append(line_spoken)\n",
    "\n",
    "elif role == 'Other Man':\n",
    "\n",
    "other.append(line_spoken)\n",
    "\n",
    "else:\n",
    "\n",
    "pass\n",
    "\n",
    "except ValueError:\n",
    "\n",
    "pass\n",
    "\n",
    " \n",
    "\n",
    "data.close()\n",
    "\n",
    "except IOError:\n",
    "\n",
    "print('The datafile is missing!')"
   ]
  },
  {
   "cell_type": "markdown",
   "metadata": {},
   "source": [
    "## Face Data 출력하기"
   ]
  },
  {
   "cell_type": "code",
   "execution_count": null,
   "metadata": {
    "collapsed": true
   },
   "outputs": [],
   "source": [
    "#TODO 수정필요\n",
    "\n",
    "if result[0] is not None:\n",
    "    # Load the original image from disk\n",
    "    data8uint = np.fromstring( data[0], np.uint8 ) # Convert string to an unsigned int array\n",
    "    img = cv2.cvtColor( cv2.imdecode( data8uint, cv2.IMREAD_COLOR ), cv2.COLOR_BGR2RGB )\n",
    "\n",
    "    renderResultOnImage( result[0], img )\n",
    "\n",
    "    ig, ax = plt.subplots(figsize=(15, 20))\n",
    "    ax.imshow( img )"
   ]
  },
  {
   "cell_type": "markdown",
   "metadata": {},
   "source": [
    "## 2. Face Grouping (Need faceId)"
   ]
  },
  {
   "cell_type": "code",
   "execution_count": 8,
   "metadata": {
    "collapsed": true
   },
   "outputs": [],
   "source": [
    "def groupRequest( json, data, headers, params ):\n",
    "\n",
    "    \"\"\"\n",
    "    Helper function to process the request to Project Oxford\n",
    "\n",
    "    Parameters:\n",
    "    json: Used when processing images from its URL. See API Documentation\n",
    "    data: Used when processing image read from disk. See API Documentation\n",
    "    headers: Used to pass the key information and the data type request\n",
    "    \"\"\"\n",
    "\n",
    "    retries = 0\n",
    "    result = None\n",
    "\n",
    "    while True:\n",
    "\n",
    "        response = requests.request( 'post', _url_group, json = json, data = data, headers = headers, params = params )\n",
    "\n",
    "        if response.status_code == 429: \n",
    "\n",
    "            print( \"Message: %s\" % ( response.json()['error']['message'] ) )\n",
    "\n",
    "            if retries <= _maxNumRetries: \n",
    "                time.sleep(1) \n",
    "                retries += 1\n",
    "                continue\n",
    "            else: \n",
    "                print( 'Error: failed after retrying!' )\n",
    "                break\n",
    "\n",
    "        elif response.status_code == 200 or response.status_code == 201:\n",
    "\n",
    "            if 'content-length' in response.headers and int(response.headers['content-length']) == 0: \n",
    "                result = None \n",
    "            elif 'content-type' in response.headers and isinstance(response.headers['content-type'], str): \n",
    "                if 'application/json' in response.headers['content-type'].lower(): \n",
    "                    result = response.json() if response.content else None \n",
    "                elif 'image' in response.headers['content-type'].lower(): \n",
    "                    result = response.content\n",
    "        else:\n",
    "            print( \"Error code: %d\" % ( response.status_code ) )\n",
    "            print( \"Message: %s\" % ( response.json()['error']['message'] ) )\n",
    "\n",
    "        break\n",
    "        \n",
    "    return result"
   ]
  },
  {
   "cell_type": "code",
   "execution_count": 9,
   "metadata": {
    "collapsed": true
   },
   "outputs": [
    {
     "data": {
      "text/plain": [
       "[u'c82aa806-0849-489d-8fa0-6297b7bd6e20',\n",
       " u'fc46ab2a-6432-4d4c-9cc0-3b2d648c3de3',\n",
       " u'20539f8b-a0ab-43da-ab17-7fd001b20d94',\n",
       " u'95294793-6b0d-470e-a18f-136d514fbca1',\n",
       " u'4254d400-4ccd-486b-b0ad-7d3eee5f6169',\n",
       " u'364d8f3f-64e6-4274-bee5-4ede40d8400f',\n",
       " u'a61d5b8f-5e5c-4e0a-9b80-06e2845f42e5',\n",
       " u'4c59351c-cd49-4ca6-a3a0-3c5c58c2d9ae',\n",
       " u'31f6a1f0-5eea-495a-8a2f-75ad258d4b21',\n",
       " u'b0c998aa-cde5-472f-a114-ed9c5a673f3f',\n",
       " u'24a2ab77-efe8-4236-b592-ec0762a83804',\n",
       " u'6d950d29-015a-4b00-9a80-b8090df66a44',\n",
       " u'f57e7f16-567f-4f0d-863d-eaf69dd373f3',\n",
       " u'f7b81aca-f3ae-442b-abd6-d0d0261f3932']"
      ]
     },
     "execution_count": 9,
     "metadata": {},
     "output_type": "execute_result"
    }
   ],
   "source": [
    "test_faceId"
   ]
  },
  {
   "cell_type": "code",
   "execution_count": 14,
   "metadata": {
    "collapsed": false,
    "scrolled": true
   },
   "outputs": [
    {
     "name": "stdout",
     "output_type": "stream",
     "text": [
      "[[u'4c59351c-cd49-4ca6-a3a0-3c5c58c2d9ae', u'31f6a1f0-5eea-495a-8a2f-75ad258d4b21', u'fc46ab2a-6432-4d4c-9cc0-3b2d648c3de3', u'6d950d29-015a-4b00-9a80-b8090df66a44', u'95294793-6b0d-470e-a18f-136d514fbca1', u'4254d400-4ccd-486b-b0ad-7d3eee5f6169', u'b0c998aa-cde5-472f-a114-ed9c5a673f3f', u'24a2ab77-efe8-4236-b592-ec0762a83804'], [u'20539f8b-a0ab-43da-ab17-7fd001b20d94', u'c82aa806-0849-489d-8fa0-6297b7bd6e20'], [u'a61d5b8f-5e5c-4e0a-9b80-06e2845f42e5', u'f7b81aca-f3ae-442b-abd6-d0d0261f3932'], [u'364d8f3f-64e6-4274-bee5-4ede40d8400f', u'f57e7f16-567f-4f0d-863d-eaf69dd373f3']]\n"
     ]
    }
   ],
   "source": [
    "params = None\n",
    "\n",
    "headers = dict()\n",
    "\n",
    "headers['Ocp-Apim-Subscription-Key'] = _key\n",
    "headers['Content-Type'] = 'application/json'\n",
    "\n",
    "data = None\n",
    "\n",
    "json = { 'faceIds': test_faceId } \n",
    "\n",
    "result = groupRequest( json, data, headers, params )\n",
    "print(result['groups'])"
   ]
  }
 ],
 "metadata": {
  "kernelspec": {
   "display_name": "Python 2",
   "language": "python",
   "name": "python2"
  },
  "language_info": {
   "codemirror_mode": {
    "name": "ipython",
    "version": 2
   },
   "file_extension": ".py",
   "mimetype": "text/x-python",
   "name": "python",
   "nbconvert_exporter": "python",
   "pygments_lexer": "ipython2",
   "version": "2.7.11"
  }
 },
 "nbformat": 4,
 "nbformat_minor": 0
}
