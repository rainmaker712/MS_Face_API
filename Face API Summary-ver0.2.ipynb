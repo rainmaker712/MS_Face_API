{
 "cells": [
  {
   "cell_type": "markdown",
   "metadata": {},
   "source": [
    "# Project Oxford: Face API\n"
   ]
  },
  {
   "cell_type": "code",
   "execution_count": 45,
   "metadata": {
    "collapsed": false
   },
   "outputs": [],
   "source": [
    "import time \n",
    "import requests\n",
    "import cv2\n",
    "import operator\n",
    "import numpy as np\n",
    "from __future__ import print_function\n",
    "\n",
    "# Import library to display results\n",
    "import matplotlib.pyplot as plt\n",
    "%matplotlib inline \n",
    "# Display images within Jupyter\n",
    "import httplib, urllib, base64 #General API Usage"
   ]
  },
  {
   "cell_type": "code",
   "execution_count": 24,
   "metadata": {
    "collapsed": false
   },
   "outputs": [],
   "source": [
    "# Variables\n",
    "\n",
    "_url_detect = 'https://api.projectoxford.ai/face/v1.0/detect'\n",
    "_url_verify = 'https://api.projectoxford.ai/face/v1.0/verify'\n",
    "_key = '0b8afa8909154432bafeed6a3217fcde' #Here you have to paste your primary key\n",
    "_maxNumRetries = 10"
   ]
  },
  {
   "cell_type": "markdown",
   "metadata": {},
   "source": [
    "## 1. Face Detection (To get faceId)"
   ]
  },
  {
   "cell_type": "code",
   "execution_count": 25,
   "metadata": {
    "collapsed": true
   },
   "outputs": [],
   "source": [
    "def detectionRequest( json, data, headers, params ):\n",
    "\n",
    "    \"\"\"\n",
    "    Helper function to process the request to Project Oxford\n",
    "\n",
    "    Parameters:\n",
    "    json: Used when processing images from its URL. See API Documentation\n",
    "    data: Used when processing image read from disk. See API Documentation\n",
    "    headers: Used to pass the key information and the data type request\n",
    "    \"\"\"\n",
    "\n",
    "    retries = 0\n",
    "    result = None\n",
    "\n",
    "    while True:\n",
    "\n",
    "        response = requests.request( 'post', _url_detect, json = json, data = data, headers = headers, params = params )\n",
    "\n",
    "        if response.status_code == 429: \n",
    "\n",
    "            print( \"Message: %s\" % ( response.json()['error']['message'] ) )\n",
    "\n",
    "            if retries <= _maxNumRetries: \n",
    "                time.sleep(1) \n",
    "                retries += 1\n",
    "                continue\n",
    "            else: \n",
    "                print( 'Error: failed after retrying!' )\n",
    "                break\n",
    "\n",
    "        elif response.status_code == 200 or response.status_code == 201:\n",
    "\n",
    "            if 'content-length' in response.headers and int(response.headers['content-length']) == 0: \n",
    "                result = None \n",
    "            elif 'content-type' in response.headers and isinstance(response.headers['content-type'], str): \n",
    "                if 'application/json' in response.headers['content-type'].lower(): \n",
    "                    result = response.json() if response.content else None \n",
    "                elif 'image' in response.headers['content-type'].lower(): \n",
    "                    result = response.content\n",
    "        else:\n",
    "            print( \"Error code: %d\" % ( response.status_code ) )\n",
    "            print( \"Message: %s\" % ( response.json()['error']['message'] ) )\n",
    "\n",
    "        break\n",
    "        \n",
    "    return result"
   ]
  },
  {
   "cell_type": "code",
   "execution_count": 26,
   "metadata": {
    "collapsed": true
   },
   "outputs": [],
   "source": [
    "def renderResultOnImage( result, img ):\n",
    "    \n",
    "    \"\"\"Display the obtained results onto the input image\"\"\"\n",
    "\n",
    "    for currFace in result:\n",
    "        faceRectangle = currFace['faceRectangle']\n",
    "        cv2.rectangle( img,(faceRectangle['left'],faceRectangle['top']),\n",
    "                           (faceRectangle['left']+faceRectangle['width'], faceRectangle['top'] + faceRectangle['height']),\n",
    "                       color = (255,0,0), thickness = 1 )\n",
    "\n",
    "        faceLandmarks = currFace['faceLandmarks']\n",
    "\n",
    "        for _, currLandmark in faceLandmarks.items():\n",
    "            cv2.circle( img, (int(currLandmark['x']),int(currLandmark['y'])), color = (0,255,0), thickness= -1, radius = 1 )\n",
    "\n",
    "    for currFace in result:\n",
    "        faceRectangle = currFace['faceRectangle']\n",
    "        faceAttributes = currFace['faceAttributes']\n",
    "\n",
    "        textToWrite = \"%c (%d)\" % ( 'M' if faceAttributes['gender']=='male' else 'F', faceAttributes['age'] )\n",
    "        cv2.putText( img, textToWrite, (faceRectangle['left'],faceRectangle['top']-15), cv2.FONT_HERSHEY_SIMPLEX, 0.5, (255,255,255), 1 )"
   ]
  },
  {
   "cell_type": "markdown",
   "metadata": {},
   "source": [
    "##   Face detection"
   ]
  },
  {
   "cell_type": "markdown",
   "metadata": {},
   "source": [
    "폴더 내에 있는 페이스 아이디 저장하기: test_faceId"
   ]
  },
  {
   "cell_type": "code",
   "execution_count": 37,
   "metadata": {
    "collapsed": true
   },
   "outputs": [
    {
     "name": "stdout",
     "output_type": "stream",
     "text": [
      "Error code: 400\n",
      "Message: Decoding error, image format unsupported.\n",
      "fail filename: /Users/robot/git_ryan/MS_Face_API/image/Test_shin/.DS_Store\n",
      "success\n",
      "success\n",
      "success\n",
      "success\n",
      "success\n",
      "success\n",
      "success\n",
      "success\n",
      "success\n",
      "success\n",
      "success\n",
      "success\n",
      "success\n",
      "success\n"
     ]
    }
   ],
   "source": [
    "import os\n",
    "\n",
    "# Face detection parameters\n",
    "params = { 'returnFaceAttributes': 'age,gender', \n",
    "           'returnFaceLandmarks': 'true'} \n",
    "\n",
    "headers = dict()\n",
    "headers['Ocp-Apim-Subscription-Key'] = _key\n",
    "headers['Content-Type'] = 'application/octet-stream'\n",
    "\n",
    "json = None\n",
    "\n",
    "cur_dir = '/Users/robot/git_ryan/MS_Face_API/image/Test_shin/'\n",
    "test_file = os.listdir(cur_dir)\n",
    "\n",
    "test_faceId = [] #face id info\n",
    "file_name = [] #directory file name\n",
    "data_name = [] #data directory\n",
    "\n",
    "for i in xrange(0, len(test_file)):\n",
    "    file_name.append(cur_dir + test_file[i])\n",
    "    \n",
    "    with open (file_name[i], 'rb') as f:\n",
    "        data = f.read()\n",
    "        data_name.append(data)\n",
    "\n",
    "    try:\n",
    "        result = detectionRequest( json, data, headers, params )\n",
    "        test_faceId.append( result[0]['faceId'])\n",
    "        time.sleep(1)\n",
    "        print(\"success\")\n",
    "    except:\n",
    "        print(\"fail filename: %s\" %file_name[i])"
   ]
  },
  {
   "cell_type": "markdown",
   "metadata": {},
   "source": [
    "## Face Data 출력하기"
   ]
  },
  {
   "cell_type": "code",
   "execution_count": 44,
   "metadata": {
    "collapsed": true
   },
   "outputs": [
    {
     "ename": "error",
     "evalue": "/Users/jenkins/miniconda/1/x64/conda-bld/work/opencv-3.1.0/modules/imgproc/src/color.cpp:7341: error: (-215) scn == 3 || scn == 4 in function ipp_cvtColor\n",
     "output_type": "error",
     "traceback": [
      "\u001b[0;31m---------------------------------------------------------------------------\u001b[0m",
      "\u001b[0;31merror\u001b[0m                                     Traceback (most recent call last)",
      "\u001b[0;32m<ipython-input-44-777b327d5798>\u001b[0m in \u001b[0;36m<module>\u001b[0;34m()\u001b[0m\n\u001b[1;32m      2\u001b[0m     \u001b[0;31m# Load the original image from disk\u001b[0m\u001b[0;34m\u001b[0m\u001b[0;34m\u001b[0m\u001b[0m\n\u001b[1;32m      3\u001b[0m     \u001b[0mdata8uint\u001b[0m \u001b[0;34m=\u001b[0m \u001b[0mnp\u001b[0m\u001b[0;34m.\u001b[0m\u001b[0mfromstring\u001b[0m\u001b[0;34m(\u001b[0m \u001b[0mdata\u001b[0m\u001b[0;34m[\u001b[0m\u001b[0;36m0\u001b[0m\u001b[0;34m]\u001b[0m\u001b[0;34m,\u001b[0m \u001b[0mnp\u001b[0m\u001b[0;34m.\u001b[0m\u001b[0muint8\u001b[0m \u001b[0;34m)\u001b[0m \u001b[0;31m# Convert string to an unsigned int array\u001b[0m\u001b[0;34m\u001b[0m\u001b[0m\n\u001b[0;32m----> 4\u001b[0;31m     \u001b[0mimg\u001b[0m \u001b[0;34m=\u001b[0m \u001b[0mcv2\u001b[0m\u001b[0;34m.\u001b[0m\u001b[0mcvtColor\u001b[0m\u001b[0;34m(\u001b[0m \u001b[0mcv2\u001b[0m\u001b[0;34m.\u001b[0m\u001b[0mimdecode\u001b[0m\u001b[0;34m(\u001b[0m \u001b[0mdata8uint\u001b[0m\u001b[0;34m,\u001b[0m \u001b[0mcv2\u001b[0m\u001b[0;34m.\u001b[0m\u001b[0mIMREAD_COLOR\u001b[0m \u001b[0;34m)\u001b[0m\u001b[0;34m,\u001b[0m \u001b[0mcv2\u001b[0m\u001b[0;34m.\u001b[0m\u001b[0mCOLOR_BGR2RGB\u001b[0m \u001b[0;34m)\u001b[0m\u001b[0;34m\u001b[0m\u001b[0m\n\u001b[0m\u001b[1;32m      5\u001b[0m \u001b[0;34m\u001b[0m\u001b[0m\n\u001b[1;32m      6\u001b[0m     \u001b[0mrenderResultOnImage\u001b[0m\u001b[0;34m(\u001b[0m \u001b[0mresult\u001b[0m\u001b[0;34m[\u001b[0m\u001b[0;36m0\u001b[0m\u001b[0;34m]\u001b[0m\u001b[0;34m,\u001b[0m \u001b[0mimg\u001b[0m \u001b[0;34m)\u001b[0m\u001b[0;34m\u001b[0m\u001b[0m\n",
      "\u001b[0;31merror\u001b[0m: /Users/jenkins/miniconda/1/x64/conda-bld/work/opencv-3.1.0/modules/imgproc/src/color.cpp:7341: error: (-215) scn == 3 || scn == 4 in function ipp_cvtColor\n"
     ]
    }
   ],
   "source": [
    "#TODO 수정필요\n",
    "\n",
    "if result[0] is not None:\n",
    "    # Load the original image from disk\n",
    "    data8uint = np.fromstring( data[0], np.uint8 ) # Convert string to an unsigned int array\n",
    "    img = cv2.cvtColor( cv2.imdecode( data8uint, cv2.IMREAD_COLOR ), cv2.COLOR_BGR2RGB )\n",
    "\n",
    "    renderResultOnImage( result[0], img )\n",
    "\n",
    "    ig, ax = plt.subplots(figsize=(15, 20))\n",
    "    ax.imshow( img )"
   ]
  },
  {
   "cell_type": "markdown",
   "metadata": {},
   "source": [
    "## 2. Face Verification (Need faceId)"
   ]
  },
  {
   "cell_type": "code",
   "execution_count": 166,
   "metadata": {
    "collapsed": true
   },
   "outputs": [],
   "source": [
    "def verificationRequest( json, data, headers, params ):\n",
    "\n",
    "    \"\"\"\n",
    "    Helper function to process the request to Project Oxford\n",
    "\n",
    "    Parameters:\n",
    "    json: Used when processing images from its URL. See API Documentation\n",
    "    data: Used when processing image read from disk. See API Documentation\n",
    "    headers: Used to pass the key information and the data type request\n",
    "    \"\"\"\n",
    "\n",
    "    retries = 0\n",
    "    result = None\n",
    "\n",
    "    while True:\n",
    "\n",
    "        response = requests.request( 'post', _url_verify, json = json, data = data, headers = headers, params = params )\n",
    "\n",
    "        if response.status_code == 429: \n",
    "\n",
    "            print( \"Message: %s\" % ( response.json()['error']['message'] ) )\n",
    "\n",
    "            if retries <= _maxNumRetries: \n",
    "                time.sleep(1) \n",
    "                retries += 1\n",
    "                continue\n",
    "            else: \n",
    "                print( 'Error: failed after retrying!' )\n",
    "                break\n",
    "\n",
    "        elif response.status_code == 200 or response.status_code == 201:\n",
    "\n",
    "            if 'content-length' in response.headers and int(response.headers['content-length']) == 0: \n",
    "                result = None \n",
    "            elif 'content-type' in response.headers and isinstance(response.headers['content-type'], str): \n",
    "                if 'application/json' in response.headers['content-type'].lower(): \n",
    "                    result = response.json() if response.content else None \n",
    "                elif 'image' in response.headers['content-type'].lower(): \n",
    "                    result = response.content\n",
    "        else:\n",
    "            print( \"Error code: %d\" % ( response.status_code ) )\n",
    "            print( \"Message: %s\" % ( response.json()['error']['message'] ) )\n",
    "\n",
    "        break\n",
    "        \n",
    "    return result"
   ]
  },
  {
   "cell_type": "code",
   "execution_count": 192,
   "metadata": {
    "collapsed": false
   },
   "outputs": [],
   "source": [
    "print(test_faceId[4])\n",
    "print(test_faceId[5])\n",
    "print(test_file[0])\n",
    "print(test_file[1])"
   ]
  },
  {
   "cell_type": "code",
   "execution_count": 195,
   "metadata": {
    "collapsed": false
   },
   "outputs": [
    {
     "ename": "KeyboardInterrupt",
     "evalue": "",
     "output_type": "error",
     "traceback": [
      "\u001b[0;31m---------------------------------------------------------------------------\u001b[0m",
      "\u001b[0;31mKeyboardInterrupt\u001b[0m                         Traceback (most recent call last)",
      "\u001b[0;32m<ipython-input-195-4c4233c029bb>\u001b[0m in \u001b[0;36m<module>\u001b[0;34m()\u001b[0m\n\u001b[1;32m     17\u001b[0m \u001b[0;32mfor\u001b[0m \u001b[0mi\u001b[0m \u001b[0;32min\u001b[0m \u001b[0mxrange\u001b[0m\u001b[0;34m(\u001b[0m\u001b[0mlen\u001b[0m\u001b[0;34m(\u001b[0m\u001b[0mtest_file\u001b[0m\u001b[0;34m)\u001b[0m\u001b[0;34m)\u001b[0m\u001b[0;34m:\u001b[0m\u001b[0;34m\u001b[0m\u001b[0m\n\u001b[1;32m     18\u001b[0m     \u001b[0mjson\u001b[0m \u001b[0;34m=\u001b[0m \u001b[0;34m{\u001b[0m \u001b[0;34m'faceId1'\u001b[0m\u001b[0;34m:\u001b[0m \u001b[0mtest_faceId\u001b[0m\u001b[0;34m[\u001b[0m\u001b[0mi\u001b[0m\u001b[0;34m]\u001b[0m\u001b[0;34m,\u001b[0m \u001b[0;34m'faceId2'\u001b[0m\u001b[0;34m:\u001b[0m \u001b[0mtest_faceId\u001b[0m\u001b[0;34m[\u001b[0m\u001b[0mi\u001b[0m\u001b[0;34m+\u001b[0m\u001b[0;36m1\u001b[0m\u001b[0;34m]\u001b[0m \u001b[0;34m}\u001b[0m\u001b[0;34m\u001b[0m\u001b[0m\n\u001b[0;32m---> 19\u001b[0;31m     \u001b[0mresult\u001b[0m \u001b[0;34m=\u001b[0m \u001b[0mverificationRequest\u001b[0m\u001b[0;34m(\u001b[0m \u001b[0mjson\u001b[0m\u001b[0;34m,\u001b[0m \u001b[0mdata\u001b[0m\u001b[0;34m,\u001b[0m \u001b[0mheaders\u001b[0m\u001b[0;34m,\u001b[0m \u001b[0mparams\u001b[0m \u001b[0;34m)\u001b[0m\u001b[0;34m\u001b[0m\u001b[0m\n\u001b[0m\u001b[1;32m     20\u001b[0m     \u001b[0;32mprint\u001b[0m\u001b[0;34m(\u001b[0m\u001b[0mresult\u001b[0m\u001b[0;34m)\u001b[0m\u001b[0;34m\u001b[0m\u001b[0m\n\u001b[1;32m     21\u001b[0m \u001b[0;34m\u001b[0m\u001b[0m\n",
      "\u001b[0;32m<ipython-input-166-a5dbd3a58253>\u001b[0m in \u001b[0;36mverificationRequest\u001b[0;34m(json, data, headers, params)\u001b[0m\n\u001b[1;32m     22\u001b[0m \u001b[0;34m\u001b[0m\u001b[0m\n\u001b[1;32m     23\u001b[0m             \u001b[0;32mif\u001b[0m \u001b[0mretries\u001b[0m \u001b[0;34m<=\u001b[0m \u001b[0m_maxNumRetries\u001b[0m\u001b[0;34m:\u001b[0m\u001b[0;34m\u001b[0m\u001b[0m\n\u001b[0;32m---> 24\u001b[0;31m                 \u001b[0mtime\u001b[0m\u001b[0;34m.\u001b[0m\u001b[0msleep\u001b[0m\u001b[0;34m(\u001b[0m\u001b[0;36m1\u001b[0m\u001b[0;34m)\u001b[0m\u001b[0;34m\u001b[0m\u001b[0m\n\u001b[0m\u001b[1;32m     25\u001b[0m                 \u001b[0mretries\u001b[0m \u001b[0;34m+=\u001b[0m \u001b[0;36m1\u001b[0m\u001b[0;34m\u001b[0m\u001b[0m\n\u001b[1;32m     26\u001b[0m                 \u001b[0;32mcontinue\u001b[0m\u001b[0;34m\u001b[0m\u001b[0m\n",
      "\u001b[0;31mKeyboardInterrupt\u001b[0m: "
     ]
    }
   ],
   "source": [
    "# Face Simliarity parameters\n",
    "\n",
    "#params = { 'faceId1': 'a0747ea2-b8a3-44ec-80f0-04b6a8b0f6cc', \n",
    "#           'faceId2': '77a2d1d0-c43f-4033-bfc5-c5af55ffe72c'} \n",
    "\n",
    "params = None\n",
    "\n",
    "headers = dict()\n",
    "\n",
    "headers['Ocp-Apim-Subscription-Key'] = _key\n",
    "headers['Content-Type'] = 'application/json'\n",
    "                                                    \n",
    "#json = None\n",
    "\n",
    "data = None\n",
    "\n",
    "for i in xrange(len(test_file)):\n",
    "    json = { 'faceId1': test_faceId[i], 'faceId2': test_faceId[i+1] } \n",
    "    result = verificationRequest( json, data, headers, params )\n",
    "    print(result)\n",
    "\n",
    "#print(result)\n",
    "#print(result[\"isIdentical\"])\n",
    "#print(result[\"confidence\"])\n",
    "\n",
    "\n",
    "#print(result[0][\"faceId\"])\n",
    "#a0747ea2-b8a3-44ec-80f0-04b6a8b0f6cc\n",
    "#77a2d1d0-c43f-4033-bfc5-c5af55ffe72c"
   ]
  },
  {
   "cell_type": "code",
   "execution_count": 27,
   "metadata": {
    "collapsed": false
   },
   "outputs": [
    {
     "name": "stdout",
     "output_type": "stream",
     "text": [
      "{u'isIdentical': True, u'confidence': 0.93598}\n",
      "True\n",
      "0.93598\n"
     ]
    }
   ],
   "source": [
    "# Face Simliarity parameters\n",
    "#params = { 'faceId1': 'a0747ea2-b8a3-44ec-80f0-04b6a8b0f6cc', \n",
    "#           'faceId2': '77a2d1d0-c43f-4033-bfc5-c5af55ffe72c'} \n",
    "\n",
    "params = None\n",
    "\n",
    "headers = dict()\n",
    "\n",
    "headers['Ocp-Apim-Subscription-Key'] = _key\n",
    "headers['Content-Type'] = 'application/json'\n",
    "\n",
    "#json = None\n",
    "\n",
    "json = { 'faceId1': 'a0747ea2-b8a3-44ec-80f0-04b6a8b0f6cc', \n",
    "           'faceId2': '77a2d1d0-c43f-4033-bfc5-c5af55ffe72c'} \n",
    "\n",
    "data = None\n",
    "\n",
    "## Load raw image file into memory\n",
    "#pathToFileInDisk = r\"/home/ryan/Pictures/lim/\" + first_file\n",
    "#pathToFileInDisk = r\"/Users/robot/git_ryan/MS_Face_API/image/lim/lim_group1/임도연_103.jpg\"\n",
    "#53\n",
    "\n",
    "\n",
    "\n",
    "#with open( pathToFileInDisk, 'rb' ) as f:\n",
    "#    data = f.read()\n",
    "\n",
    "\n",
    "result = processRequest( json, data, headers, params )\n",
    "print(result)\n",
    "print(result[\"isIdentical\"])\n",
    "print(result[\"confidence\"])\n",
    "\n",
    "\n",
    "#print(result[0][\"faceId\"])\n",
    "#a0747ea2-b8a3-44ec-80f0-04b6a8b0f6cc\n",
    "#77a2d1d0-c43f-4033-bfc5-c5af55ffe72c"
   ]
  },
  {
   "cell_type": "code",
   "execution_count": null,
   "metadata": {
    "collapsed": true
   },
   "outputs": [],
   "source": [
    "if result is not None:\n",
    "    # Load the original image from disk\n",
    "    data8uint = np.fromstring( data, np.uint8 ) # Convert string to an unsigned int array\n",
    "    img = cv2.cvtColor( cv2.imdecode( data8uint, cv2.IMREAD_COLOR ), cv2.COLOR_BGR2RGB )\n",
    "\n",
    "    renderResultOnImage( result, img )\n",
    "\n",
    "    ig, ax = plt.subplots(figsize=(15, 20))\n",
    "    ax.imshow( img )\n"
   ]
  },
  {
   "cell_type": "code",
   "execution_count": null,
   "metadata": {
    "collapsed": true
   },
   "outputs": [],
   "source": [
    "¡"
   ]
  },
  {
   "cell_type": "markdown",
   "metadata": {},
   "source": [
    "## Detect faces from an image stored on disk"
   ]
  },
  {
   "cell_type": "code",
   "execution_count": null,
   "metadata": {
    "collapsed": true
   },
   "outputs": [],
   "source": []
  },
  {
   "cell_type": "code",
   "execution_count": 5,
   "metadata": {
    "collapsed": false
   },
   "outputs": [
    {
     "name": "stdout",
     "output_type": "stream",
     "text": [
      "207\n"
     ]
    }
   ],
   "source": [
    "#-*- coding: utf-8 -*-\n",
    "\n",
    "#Load file\n",
    "import os\n",
    "cur_dir = \"/home/ryan/Pictures/\"\n",
    "lim_path = cur_dir + \"lim/\"\n",
    "lim_file = os.listdir(lim_path)\n",
    "print(len(lim_file))"
   ]
  },
  {
   "cell_type": "code",
   "execution_count": 164,
   "metadata": {
    "collapsed": false,
    "scrolled": false
   },
   "outputs": [
    {
     "name": "stdout",
     "output_type": "stream",
     "text": [
      "filename: 임도연_137.jpg, faceid: hello\n"
     ]
    }
   ],
   "source": [
    "print(\"filename: %s, faceid: %s\" %(first_file[i], lim_faceId[i]))"
   ]
  },
  {
   "cell_type": "code",
   "execution_count": 183,
   "metadata": {
    "collapsed": true
   },
   "outputs": [
    {
     "ename": "IOError",
     "evalue": "[Errno 21] Is a directory: '/home/ryan/Pictures/lim/not detect'",
     "output_type": "error",
     "traceback": [
      "\u001b[1;31m---------------------------------------------------------------------------\u001b[0m",
      "\u001b[1;31mIOError\u001b[0m                                   Traceback (most recent call last)",
      "\u001b[1;32m<ipython-input-183-7aa44841c780>\u001b[0m in \u001b[0;36m<module>\u001b[1;34m()\u001b[0m\n\u001b[0;32m     11\u001b[0m \u001b[1;32mfor\u001b[0m \u001b[0mi\u001b[0m \u001b[1;32min\u001b[0m \u001b[0mxrange\u001b[0m\u001b[1;33m(\u001b[0m\u001b[1;36m0\u001b[0m\u001b[1;33m,\u001b[0m \u001b[0mlen\u001b[0m\u001b[1;33m(\u001b[0m\u001b[0mfirst_file\u001b[0m\u001b[1;33m)\u001b[0m\u001b[1;33m)\u001b[0m\u001b[1;33m:\u001b[0m\u001b[1;33m\u001b[0m\u001b[0m\n\u001b[0;32m     12\u001b[0m     \u001b[0mpathToFileInDisk\u001b[0m \u001b[1;33m=\u001b[0m \u001b[1;34mr\"/home/ryan/Pictures/lim/\"\u001b[0m \u001b[1;33m+\u001b[0m \u001b[0mfirst_file\u001b[0m\u001b[1;33m[\u001b[0m\u001b[0mi\u001b[0m\u001b[1;33m]\u001b[0m\u001b[1;33m\u001b[0m\u001b[0m\n\u001b[1;32m---> 13\u001b[1;33m     \u001b[1;32mwith\u001b[0m \u001b[0mopen\u001b[0m\u001b[1;33m(\u001b[0m \u001b[0mpathToFileInDisk\u001b[0m\u001b[1;33m,\u001b[0m \u001b[1;34m'rb'\u001b[0m \u001b[1;33m)\u001b[0m \u001b[1;32mas\u001b[0m \u001b[0mf\u001b[0m\u001b[1;33m:\u001b[0m\u001b[1;33m\u001b[0m\u001b[0m\n\u001b[0m\u001b[0;32m     14\u001b[0m         \u001b[0mdata\u001b[0m \u001b[1;33m=\u001b[0m \u001b[0mf\u001b[0m\u001b[1;33m.\u001b[0m\u001b[0mread\u001b[0m\u001b[1;33m(\u001b[0m\u001b[1;33m)\u001b[0m\u001b[1;33m\u001b[0m\u001b[0m\n\u001b[0;32m     15\u001b[0m     \u001b[1;32mtry\u001b[0m\u001b[1;33m:\u001b[0m\u001b[1;33m\u001b[0m\u001b[0m\n",
      "\u001b[1;31mIOError\u001b[0m: [Errno 21] Is a directory: '/home/ryan/Pictures/lim/not detect'"
     ]
    }
   ],
   "source": [
    "import sys  \n",
    "\n",
    "reload(sys)  \n",
    "sys.setdefaultencoding('utf8')\n",
    "\n",
    "#Get face ID\n",
    "import time\n",
    "\n",
    "lim_faceId = []\n",
    "\n",
    "for i in xrange(0, len(first_file)):\n",
    "    pathToFileInDisk = r\"/home/ryan/Pictures/lim/\" + first_file[i]\n",
    "    with open( pathToFileInDisk, 'rb' ) as f:\n",
    "        data = f.read()\n",
    "    try:\n",
    "        result = processRequest( json, data, headers, params )\n",
    "        lim_faceId.append( result[0]['faceId'])\n",
    "        time.sleep(1)\n",
    "        print(\"\")\n",
    "    except:\n",
    "        print(\"filename: %s\" %first_file[i])"
   ]
  },
  {
   "cell_type": "code",
   "execution_count": 68,
   "metadata": {
    "collapsed": false
   },
   "outputs": [
    {
     "data": {
      "text/plain": [
       "u'648ee94d-5898-459b-b085-bfa5bae93201'"
      ]
     },
     "execution_count": 68,
     "metadata": {},
     "output_type": "execute_result"
    }
   ],
   "source": []
  },
  {
   "cell_type": "markdown",
   "metadata": {
    "collapsed": true
   },
   "source": [
    "'9388eac6-927f-4839-8294-2cf3780d9279'김태희 222\n",
    "'b04bfdef-1264-4552-b027-4c6ba50e9077' 김태희 223\n",
    "'98633f63-8520-4025-89a7-96b39993aa16' 김태희224\n",
    "'f30cce5a-e75b-4fc9-b9ee-936df68417db', 김태희 225\n",
    "'e5aadbb5-f7a4-45bb-834d-c64e256aeb2b' 김태희 226\n",
    "'8f01d5c1-5e93-4fa8-91c9-c8a411621fa6' 김태희 227\n",
    "'505953b0-c55f-4829-9e2b-e5a9ba95bbb1' park\n",
    "'2ac557f0-f6f2-4b1c-8b8b-775c3d5e7211' park\n",
    "'c1525da6-1d6e-41e4-8bed-4e3051507209' park\n",
    "'9ee83ed8-9ec3-4726-90aa-511767a92168' park"
   ]
  },
  {
   "cell_type": "markdown",
   "metadata": {},
   "source": [
    "## Grouping face image"
   ]
  },
  {
   "cell_type": "code",
   "execution_count": 36,
   "metadata": {
    "collapsed": false,
    "scrolled": false
   },
   "outputs": [
    {
     "name": "stdout",
     "output_type": "stream",
     "text": [
      "{\"groups\":[[\"55ea7af7-dc7f-4aea-bac4-aa2f810b348d\",\"abc93eda-a89a-45c9-81c5-7143e8b3acd6\",\"9ce9a74f-dd4c-4ab3-bde2-d615b5e545c1\",\"e4e2e637-6e0e-4482-ab25-2e3d3e53318a\"],[\"614e1eec-1b0f-4ba0-acd7-c595ba01f7b4\",\"984eeb75-7b0c-4e81-8c42-5cca07f0883d\",\"05636e98-df04-4de6-a473-2bdfa90549f4\"],[\"746e6f7e-6143-459a-8fb7-d0eb83641a72\",\"65a92802-5f3b-4a2e-9d84-a274b5a55de9\",\"026ccc19-3ec2-4bd5-8ef3-4ddf7db17f79\",\"c9c4342e-fb9b-4d36-85d0-b178dd3a3311\"],[\"bc71a2c1-5f0f-413c-a8e8-17f4d5219d8d\",\"f988d9df-3264-4884-83d0-8ed568cc04f9\"],[\"2f738d8a-eaa8-40d7-84a9-76a37a760d74\",\"2f738d8a-eaa8-40d7-84a9-76a37a760d74\",\"fc69fa7a-2860-41b1-9c1a-91f7d2b14dd6\"],[\"ddc90280-e00b-4571-9324-ecc77b7ab6aa\",\"4a364364-b5de-4c23-8e7a-a325f4d81937\"],[\"b3fea9e2-f7b7-43d2-874d-04d96d485549\",\"d4e7add0-f289-47a9-a926-c890af723f5a\",\"3891bd12-3d25-4b65-93f4-fb33fe087577\"],[\"d941f2ed-a8e8-4687-9751-1d6023841ca7\",\"7869fcb5-9b96-45c3-aa43-aa16d8a1d26e\"]],\"messyGroup\":[\"1aafce0a-306b-4430-92d5-a255637f8cfd\",\"b42e79a4-00f8-40f0-8871-1afe208941ac\",\"b8fb9b96-b0cc-4963-a27c-412787314805\",\"7776ab44-297a-4317-b5eb-0741ca82efbe\",\"5611571b-8cab-4121-8b2f-d5fa71d7c870\",\"074e5352-9eed-44db-a9fc-01bbf4bf7d23\",\"a82924ae-51c9-49e6-9998-075727e1cfc1\",\"db883910-95b4-4051-9cf2-56613f5a119a\",\"8ba06faf-2748-4fb2-bd9d-e1ecee3575ea\",\"69cb011a-8b0b-4c55-91a7-ee0c3e396952\",\"e9bd14c9-d373-4813-b159-af908af38f94\",\"11eb743b-9521-4cd4-b9e3-4ed8973ef7b1\",\"c2f842e0-18ab-467f-be4f-22a59932340d\",\"415d17f4-250f-40a4-8341-4d1617b2f17c\",\"9851ddf2-525b-4e11-9d03-aacc400dabe6\",\"de2f1698-6631-4698-abe0-ca3eada0668b\",\"8f625880-a362-4744-8b56-9fd6c688e005\",\"dac0e00b-2632-4d9a-ac79-3dbb49653fca\",\"df5c1749-4827-4ef2-8a2f-5920e46e9349\",\"9a977146-63ad-40ab-8b6b-467aa96d5f13\",\"24a2a877-27fe-4388-b646-2015f85e3563\",\"9388eac6-927f-4839-8294-2cf3780d9279\",\"fccbb4be-a44a-41d7-bc5b-2bc539166f46\"]}\n"
     ]
    }
   ],
   "source": [
    "headers = {\n",
    "    # Request headers\n",
    "    'Content-Type': 'application/json',\n",
    "    'Ocp-Apim-Subscription-Key': _key,\n",
    "}\n",
    "\n",
    "params = None\n",
    "body = '{\\\n",
    "    \"faceIds\":[\\\n",
    "        \"b3fea9e2-f7b7-43d2-874d-04d96d485549\",\\\n",
    "        \"984eeb75-7b0c-4e81-8c42-5cca07f0883d\",\\\n",
    "        \"05636e98-df04-4de6-a473-2bdfa90549f4\",\\\n",
    "        \"1aafce0a-306b-4430-92d5-a255637f8cfd\",\\\n",
    "        \"b42e79a4-00f8-40f0-8871-1afe208941ac\",\\\n",
    "        \"614e1eec-1b0f-4ba0-acd7-c595ba01f7b4\",\\\n",
    "        \"b8fb9b96-b0cc-4963-a27c-412787314805\",\\\n",
    "        \"7776ab44-297a-4317-b5eb-0741ca82efbe\",\\\n",
    "        \"5611571b-8cab-4121-8b2f-d5fa71d7c870\",\\\n",
    "        \"f988d9df-3264-4884-83d0-8ed568cc04f9\",\\\n",
    "        \"bc71a2c1-5f0f-413c-a8e8-17f4d5219d8d\",\\\n",
    "        \"d4e7add0-f289-47a9-a926-c890af723f5a\",\\\n",
    "        \"074e5352-9eed-44db-a9fc-01bbf4bf7d23\",\\\n",
    "        \"3891bd12-3d25-4b65-93f4-fb33fe087577\",\\\n",
    "        \"a82924ae-51c9-49e6-9998-075727e1cfc1\",\\\n",
    "        \"db883910-95b4-4051-9cf2-56613f5a119a\",\\\n",
    "        \"8ba06faf-2748-4fb2-bd9d-e1ecee3575ea\",\\\n",
    "        \"69cb011a-8b0b-4c55-91a7-ee0c3e396952\",\\\n",
    "        \"e9bd14c9-d373-4813-b159-af908af38f94\",\\\n",
    "        \"11eb743b-9521-4cd4-b9e3-4ed8973ef7b1\",\\\n",
    "        \"c2f842e0-18ab-467f-be4f-22a59932340d\",\\\n",
    "        \"e4e2e637-6e0e-4482-ab25-2e3d3e53318a\",\\\n",
    "        \"415d17f4-250f-40a4-8341-4d1617b2f17c\",\\\n",
    "        \"55ea7af7-dc7f-4aea-bac4-aa2f810b348d\",\\\n",
    "        \"9851ddf2-525b-4e11-9d03-aacc400dabe6\",\\\n",
    "        \"de2f1698-6631-4698-abe0-ca3eada0668b\",\\\n",
    "        \"ddc90280-e00b-4571-9324-ecc77b7ab6aa\",\\\n",
    "        \"d941f2ed-a8e8-4687-9751-1d6023841ca7\",\\\n",
    "        \"9ce9a74f-dd4c-4ab3-bde2-d615b5e545c1\",\\\n",
    "        \"746e6f7e-6143-459a-8fb7-d0eb83641a72\",\\\n",
    "        \"026ccc19-3ec2-4bd5-8ef3-4ddf7db17f79\",\\\n",
    "        \"2f738d8a-eaa8-40d7-84a9-76a37a760d74\",\\\n",
    "        \"8f625880-a362-4744-8b56-9fd6c688e005\",\\\n",
    "        \"dac0e00b-2632-4d9a-ac79-3dbb49653fca\",\\\n",
    "        \"df5c1749-4827-4ef2-8a2f-5920e46e9349\",\\\n",
    "        \"9a977146-63ad-40ab-8b6b-467aa96d5f13\",\\\n",
    "        \"24a2a877-27fe-4388-b646-2015f85e3563\",\\\n",
    "        \"9388eac6-927f-4839-8294-2cf3780d9279\",\\\n",
    "        \"4a364364-b5de-4c23-8e7a-a325f4d81937\",\\\n",
    "        \"7869fcb5-9b96-45c3-aa43-aa16d8a1d26e\",\\\n",
    "        \"abc93eda-a89a-45c9-81c5-7143e8b3acd6\",\\\n",
    "        \"65a92802-5f3b-4a2e-9d84-a274b5a55de9\",\\\n",
    "        \"c9c4342e-fb9b-4d36-85d0-b178dd3a3311\",\\\n",
    "        \"fc69fa7a-2860-41b1-9c1a-91f7d2b14dd6\",\\\n",
    "        \"fccbb4be-a44a-41d7-bc5b-2bc539166f46\",\\\n",
    "        \"2f738d8a-eaa8-40d7-84a9-76a37a760d74\"\\\n",
    "    ]\\\n",
    "}'\n",
    "\n",
    "try:\n",
    "    conn = httplib.HTTPSConnection('api.projectoxford.ai')\n",
    "    conn.request(\"POST\", \"/face/v1.0/group?%s\" % params, body, headers)\n",
    "    response = conn.getresponse()\n",
    "    data = response.read()\n",
    "    print(data)\n",
    "    conn.close()\n",
    "except Exception as e:\n",
    "    print(\"[Errno {0}] {1}\".format(e.errno, e.strerror))"
   ]
  }
 ],
 "metadata": {
  "kernelspec": {
   "display_name": "Python 2",
   "language": "python",
   "name": "python2"
  },
  "language_info": {
   "codemirror_mode": {
    "name": "ipython",
    "version": 2
   },
   "file_extension": ".py",
   "mimetype": "text/x-python",
   "name": "python",
   "nbconvert_exporter": "python",
   "pygments_lexer": "ipython2",
   "version": "2.7.11"
  }
 },
 "nbformat": 4,
 "nbformat_minor": 0
}
